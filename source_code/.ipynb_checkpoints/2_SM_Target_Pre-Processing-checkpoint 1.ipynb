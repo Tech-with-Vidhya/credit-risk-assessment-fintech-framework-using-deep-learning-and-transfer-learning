{
 "cells": [
  {
   "cell_type": "markdown",
   "id": "c1fa4149-4efa-498c-b28c-583f36a641e0",
   "metadata": {},
   "source": [
    "# SOURCE MODEL (SM) TARGET (DEPENDENT) VARIABLE PRE-PROCESSING"
   ]
  },
  {
   "cell_type": "markdown",
   "id": "88e2625f-da57-492d-82fa-bd721d2751b4",
   "metadata": {},
   "source": [
    "## Importing Python Libraries"
   ]
  },
  {
   "cell_type": "code",
   "execution_count": 47,
   "id": "c984823f-342c-44ed-b327-0fcd02e0af0b",
   "metadata": {},
   "outputs": [
    {
     "name": "stdout",
     "output_type": "stream",
     "text": [
      "Import Completed\n"
     ]
    }
   ],
   "source": [
    "import numpy as np\n",
    "import pandas as pd\n",
    "\n",
    "print(\"Import Completed\")"
   ]
  },
  {
   "cell_type": "markdown",
   "id": "0eb1b608-ca7a-4f2a-ae5b-38d719414a3f",
   "metadata": {},
   "source": [
    "## Importing and Loading the Source Model (SM) Raw Data"
   ]
  },
  {
   "cell_type": "code",
   "execution_count": 48,
   "id": "de93e264-9ca9-4508-aaaa-1f4fc2c90b31",
   "metadata": {},
   "outputs": [
    {
     "name": "stderr",
     "output_type": "stream",
     "text": [
      "/Library/Frameworks/Python.framework/Versions/3.8/lib/python3.8/site-packages/IPython/core/interactiveshell.py:3165: DtypeWarning: Columns (20) have mixed types.Specify dtype option on import or set low_memory=False.\n",
      "  has_raised = await self.run_ast_nodes(code_ast.body, cell_name,\n"
     ]
    },
    {
     "name": "stdout",
     "output_type": "stream",
     "text": [
      "Data Import Completed\n"
     ]
    }
   ],
   "source": [
    "source_model_raw_data = pd.read_csv(\"/Users/vidhyalakshmiparthasarathy/.CMVolumes/Google-Drive-pbvidhyauk6/QMUL_MSc_Project/credit_risk_scoring_project/data/transfer_learning_models_raw_data/source_model_raw_data.csv\")\n",
    "\n",
    "print(\"Data Import Completed\")"
   ]
  },
  {
   "cell_type": "code",
   "execution_count": 49,
   "id": "183705db-d76c-4de0-a677-2920a419e610",
   "metadata": {},
   "outputs": [
    {
     "data": {
      "text/plain": [
       "(524282, 152)"
      ]
     },
     "execution_count": 49,
     "metadata": {},
     "output_type": "execute_result"
    }
   ],
   "source": [
    "# Checking the size of the Source Model (SM) Raw Data\n",
    "\n",
    "source_model_raw_data.shape"
   ]
  },
  {
   "cell_type": "code",
   "execution_count": 50,
   "id": "c54a0d92-19cb-40e9-a9f1-06c6cd02c71c",
   "metadata": {},
   "outputs": [
    {
     "data": {
      "text/plain": [
       "Index(['Unnamed: 0', 'id', 'member_id'], dtype='object')"
      ]
     },
     "execution_count": 50,
     "metadata": {},
     "output_type": "execute_result"
    }
   ],
   "source": [
    "# Checking the first 3 column names of the dataset\n",
    "\n",
    "source_model_raw_data.columns[[0, 1, 2]]"
   ]
  },
  {
   "cell_type": "code",
   "execution_count": 51,
   "id": "5c5860ce-8df7-4df7-ae91-ca95e0428b64",
   "metadata": {},
   "outputs": [
    {
     "name": "stdout",
     "output_type": "stream",
     "text": [
      "Execution Completed\n"
     ]
    }
   ],
   "source": [
    "# Removing the first index column from the dataset\n",
    "\n",
    "source_model_raw_data.drop(source_model_raw_data.columns[0], axis = 1, inplace = True)\n",
    "\n",
    "print(\"Execution Completed\")"
   ]
  },
  {
   "cell_type": "code",
   "execution_count": 52,
   "id": "c56aa8df-7a3c-4525-823f-0a0f3aa0aca3",
   "metadata": {},
   "outputs": [
    {
     "data": {
      "text/plain": [
       "(524282, 151)"
      ]
     },
     "execution_count": 52,
     "metadata": {},
     "output_type": "execute_result"
    }
   ],
   "source": [
    "# Re-checking the size of the Source Model (SM) Raw Data\n",
    "\n",
    "source_model_raw_data.shape"
   ]
  },
  {
   "cell_type": "code",
   "execution_count": 57,
   "id": "5eb5394c-7a9e-4e80-b70c-50629819b4ab",
   "metadata": {},
   "outputs": [
    {
     "data": {
      "text/html": [
       "<div>\n",
       "<style scoped>\n",
       "    .dataframe tbody tr th:only-of-type {\n",
       "        vertical-align: middle;\n",
       "    }\n",
       "\n",
       "    .dataframe tbody tr th {\n",
       "        vertical-align: top;\n",
       "    }\n",
       "\n",
       "    .dataframe thead th {\n",
       "        text-align: right;\n",
       "    }\n",
       "</style>\n",
       "<table border=\"1\" class=\"dataframe\">\n",
       "  <thead>\n",
       "    <tr style=\"text-align: right;\">\n",
       "      <th></th>\n",
       "      <th>id</th>\n",
       "      <th>member_id</th>\n",
       "      <th>loan_amnt</th>\n",
       "      <th>funded_amnt</th>\n",
       "      <th>funded_amnt_inv</th>\n",
       "      <th>term</th>\n",
       "      <th>int_rate</th>\n",
       "      <th>installment</th>\n",
       "      <th>grade</th>\n",
       "      <th>sub_grade</th>\n",
       "      <th>...</th>\n",
       "      <th>debt_settlement_flag_date</th>\n",
       "      <th>settlement_status</th>\n",
       "      <th>settlement_date</th>\n",
       "      <th>settlement_amount</th>\n",
       "      <th>settlement_percentage</th>\n",
       "      <th>settlement_term</th>\n",
       "      <th>fico_range_low</th>\n",
       "      <th>fico_range_high</th>\n",
       "      <th>last_fico_range_high</th>\n",
       "      <th>last_fico_range_low</th>\n",
       "    </tr>\n",
       "  </thead>\n",
       "  <tbody>\n",
       "    <tr>\n",
       "      <th>0</th>\n",
       "      <td>136243871</td>\n",
       "      <td>NaN</td>\n",
       "      <td>15000.0</td>\n",
       "      <td>15000.0</td>\n",
       "      <td>15000.0</td>\n",
       "      <td>36 months</td>\n",
       "      <td>10.08</td>\n",
       "      <td>484.58</td>\n",
       "      <td>B</td>\n",
       "      <td>B1</td>\n",
       "      <td>...</td>\n",
       "      <td>NaN</td>\n",
       "      <td>NaN</td>\n",
       "      <td>NaN</td>\n",
       "      <td>NaN</td>\n",
       "      <td>NaN</td>\n",
       "      <td>NaN</td>\n",
       "      <td>730.0</td>\n",
       "      <td>734.0</td>\n",
       "      <td>619.0</td>\n",
       "      <td>615.0</td>\n",
       "    </tr>\n",
       "    <tr>\n",
       "      <th>1</th>\n",
       "      <td>63396131</td>\n",
       "      <td>NaN</td>\n",
       "      <td>15000.0</td>\n",
       "      <td>15000.0</td>\n",
       "      <td>15000.0</td>\n",
       "      <td>60 months</td>\n",
       "      <td>8.18</td>\n",
       "      <td>305.44</td>\n",
       "      <td>B</td>\n",
       "      <td>B1</td>\n",
       "      <td>...</td>\n",
       "      <td>NaN</td>\n",
       "      <td>NaN</td>\n",
       "      <td>NaN</td>\n",
       "      <td>NaN</td>\n",
       "      <td>NaN</td>\n",
       "      <td>NaN</td>\n",
       "      <td>725.0</td>\n",
       "      <td>729.0</td>\n",
       "      <td>754.0</td>\n",
       "      <td>750.0</td>\n",
       "    </tr>\n",
       "    <tr>\n",
       "      <th>2</th>\n",
       "      <td>130657021</td>\n",
       "      <td>NaN</td>\n",
       "      <td>15000.0</td>\n",
       "      <td>15000.0</td>\n",
       "      <td>15000.0</td>\n",
       "      <td>60 months</td>\n",
       "      <td>11.98</td>\n",
       "      <td>333.52</td>\n",
       "      <td>B</td>\n",
       "      <td>B5</td>\n",
       "      <td>...</td>\n",
       "      <td>NaN</td>\n",
       "      <td>NaN</td>\n",
       "      <td>NaN</td>\n",
       "      <td>NaN</td>\n",
       "      <td>NaN</td>\n",
       "      <td>NaN</td>\n",
       "      <td>720.0</td>\n",
       "      <td>724.0</td>\n",
       "      <td>709.0</td>\n",
       "      <td>705.0</td>\n",
       "    </tr>\n",
       "    <tr>\n",
       "      <th>3</th>\n",
       "      <td>60635254</td>\n",
       "      <td>NaN</td>\n",
       "      <td>25000.0</td>\n",
       "      <td>25000.0</td>\n",
       "      <td>25000.0</td>\n",
       "      <td>60 months</td>\n",
       "      <td>15.61</td>\n",
       "      <td>602.79</td>\n",
       "      <td>D</td>\n",
       "      <td>D1</td>\n",
       "      <td>...</td>\n",
       "      <td>NaN</td>\n",
       "      <td>NaN</td>\n",
       "      <td>NaN</td>\n",
       "      <td>NaN</td>\n",
       "      <td>NaN</td>\n",
       "      <td>NaN</td>\n",
       "      <td>720.0</td>\n",
       "      <td>724.0</td>\n",
       "      <td>644.0</td>\n",
       "      <td>640.0</td>\n",
       "    </tr>\n",
       "    <tr>\n",
       "      <th>4</th>\n",
       "      <td>129371880</td>\n",
       "      <td>NaN</td>\n",
       "      <td>36000.0</td>\n",
       "      <td>36000.0</td>\n",
       "      <td>36000.0</td>\n",
       "      <td>60 months</td>\n",
       "      <td>21.85</td>\n",
       "      <td>991.22</td>\n",
       "      <td>D</td>\n",
       "      <td>D5</td>\n",
       "      <td>...</td>\n",
       "      <td>NaN</td>\n",
       "      <td>NaN</td>\n",
       "      <td>NaN</td>\n",
       "      <td>NaN</td>\n",
       "      <td>NaN</td>\n",
       "      <td>NaN</td>\n",
       "      <td>690.0</td>\n",
       "      <td>694.0</td>\n",
       "      <td>749.0</td>\n",
       "      <td>745.0</td>\n",
       "    </tr>\n",
       "  </tbody>\n",
       "</table>\n",
       "<p>5 rows × 151 columns</p>\n",
       "</div>"
      ],
      "text/plain": [
       "          id  member_id  loan_amnt  funded_amnt  funded_amnt_inv        term  \\\n",
       "0  136243871        NaN    15000.0      15000.0          15000.0   36 months   \n",
       "1   63396131        NaN    15000.0      15000.0          15000.0   60 months   \n",
       "2  130657021        NaN    15000.0      15000.0          15000.0   60 months   \n",
       "3   60635254        NaN    25000.0      25000.0          25000.0   60 months   \n",
       "4  129371880        NaN    36000.0      36000.0          36000.0   60 months   \n",
       "\n",
       "   int_rate  installment grade sub_grade  ... debt_settlement_flag_date  \\\n",
       "0     10.08       484.58     B        B1  ...                       NaN   \n",
       "1      8.18       305.44     B        B1  ...                       NaN   \n",
       "2     11.98       333.52     B        B5  ...                       NaN   \n",
       "3     15.61       602.79     D        D1  ...                       NaN   \n",
       "4     21.85       991.22     D        D5  ...                       NaN   \n",
       "\n",
       "  settlement_status settlement_date  settlement_amount settlement_percentage  \\\n",
       "0               NaN             NaN                NaN                   NaN   \n",
       "1               NaN             NaN                NaN                   NaN   \n",
       "2               NaN             NaN                NaN                   NaN   \n",
       "3               NaN             NaN                NaN                   NaN   \n",
       "4               NaN             NaN                NaN                   NaN   \n",
       "\n",
       "  settlement_term fico_range_low fico_range_high last_fico_range_high  \\\n",
       "0             NaN          730.0           734.0                619.0   \n",
       "1             NaN          725.0           729.0                754.0   \n",
       "2             NaN          720.0           724.0                709.0   \n",
       "3             NaN          720.0           724.0                644.0   \n",
       "4             NaN          690.0           694.0                749.0   \n",
       "\n",
       "  last_fico_range_low  \n",
       "0               615.0  \n",
       "1               750.0  \n",
       "2               705.0  \n",
       "3               640.0  \n",
       "4               745.0  \n",
       "\n",
       "[5 rows x 151 columns]"
      ]
     },
     "execution_count": 57,
     "metadata": {},
     "output_type": "execute_result"
    }
   ],
   "source": [
    "# Displying the first 5 data instances of the Source Model (SM) Raw Data\n",
    "\n",
    "source_model_raw_data.head()"
   ]
  },
  {
   "cell_type": "code",
   "execution_count": 58,
   "id": "77bf618b-8785-47cc-b2c0-c417d770e027",
   "metadata": {},
   "outputs": [
    {
     "data": {
      "text/html": [
       "<div>\n",
       "<style scoped>\n",
       "    .dataframe tbody tr th:only-of-type {\n",
       "        vertical-align: middle;\n",
       "    }\n",
       "\n",
       "    .dataframe tbody tr th {\n",
       "        vertical-align: top;\n",
       "    }\n",
       "\n",
       "    .dataframe thead th {\n",
       "        text-align: right;\n",
       "    }\n",
       "</style>\n",
       "<table border=\"1\" class=\"dataframe\">\n",
       "  <thead>\n",
       "    <tr style=\"text-align: right;\">\n",
       "      <th></th>\n",
       "      <th>id</th>\n",
       "      <th>member_id</th>\n",
       "      <th>loan_amnt</th>\n",
       "      <th>funded_amnt</th>\n",
       "      <th>funded_amnt_inv</th>\n",
       "      <th>term</th>\n",
       "      <th>int_rate</th>\n",
       "      <th>installment</th>\n",
       "      <th>grade</th>\n",
       "      <th>sub_grade</th>\n",
       "      <th>...</th>\n",
       "      <th>debt_settlement_flag_date</th>\n",
       "      <th>settlement_status</th>\n",
       "      <th>settlement_date</th>\n",
       "      <th>settlement_amount</th>\n",
       "      <th>settlement_percentage</th>\n",
       "      <th>settlement_term</th>\n",
       "      <th>fico_range_low</th>\n",
       "      <th>fico_range_high</th>\n",
       "      <th>last_fico_range_high</th>\n",
       "      <th>last_fico_range_low</th>\n",
       "    </tr>\n",
       "  </thead>\n",
       "  <tbody>\n",
       "    <tr>\n",
       "      <th>524277</th>\n",
       "      <td>52729049</td>\n",
       "      <td>NaN</td>\n",
       "      <td>15000.0</td>\n",
       "      <td>15000.0</td>\n",
       "      <td>15000.0</td>\n",
       "      <td>60 months</td>\n",
       "      <td>19.19</td>\n",
       "      <td>390.68</td>\n",
       "      <td>E</td>\n",
       "      <td>E3</td>\n",
       "      <td>...</td>\n",
       "      <td>NaN</td>\n",
       "      <td>NaN</td>\n",
       "      <td>NaN</td>\n",
       "      <td>NaN</td>\n",
       "      <td>NaN</td>\n",
       "      <td>NaN</td>\n",
       "      <td>665.0</td>\n",
       "      <td>669.0</td>\n",
       "      <td>524.0</td>\n",
       "      <td>520.0</td>\n",
       "    </tr>\n",
       "    <tr>\n",
       "      <th>524278</th>\n",
       "      <td>56030757</td>\n",
       "      <td>NaN</td>\n",
       "      <td>14500.0</td>\n",
       "      <td>14500.0</td>\n",
       "      <td>14500.0</td>\n",
       "      <td>36 months</td>\n",
       "      <td>9.17</td>\n",
       "      <td>462.25</td>\n",
       "      <td>B</td>\n",
       "      <td>B2</td>\n",
       "      <td>...</td>\n",
       "      <td>NaN</td>\n",
       "      <td>NaN</td>\n",
       "      <td>NaN</td>\n",
       "      <td>NaN</td>\n",
       "      <td>NaN</td>\n",
       "      <td>NaN</td>\n",
       "      <td>690.0</td>\n",
       "      <td>694.0</td>\n",
       "      <td>814.0</td>\n",
       "      <td>810.0</td>\n",
       "    </tr>\n",
       "    <tr>\n",
       "      <th>524279</th>\n",
       "      <td>126378519</td>\n",
       "      <td>NaN</td>\n",
       "      <td>25000.0</td>\n",
       "      <td>25000.0</td>\n",
       "      <td>25000.0</td>\n",
       "      <td>60 months</td>\n",
       "      <td>15.05</td>\n",
       "      <td>595.41</td>\n",
       "      <td>C</td>\n",
       "      <td>C4</td>\n",
       "      <td>...</td>\n",
       "      <td>NaN</td>\n",
       "      <td>NaN</td>\n",
       "      <td>NaN</td>\n",
       "      <td>NaN</td>\n",
       "      <td>NaN</td>\n",
       "      <td>NaN</td>\n",
       "      <td>700.0</td>\n",
       "      <td>704.0</td>\n",
       "      <td>739.0</td>\n",
       "      <td>735.0</td>\n",
       "    </tr>\n",
       "    <tr>\n",
       "      <th>524280</th>\n",
       "      <td>134925617</td>\n",
       "      <td>NaN</td>\n",
       "      <td>10000.0</td>\n",
       "      <td>10000.0</td>\n",
       "      <td>10000.0</td>\n",
       "      <td>36 months</td>\n",
       "      <td>6.83</td>\n",
       "      <td>308.00</td>\n",
       "      <td>A</td>\n",
       "      <td>A3</td>\n",
       "      <td>...</td>\n",
       "      <td>NaN</td>\n",
       "      <td>NaN</td>\n",
       "      <td>NaN</td>\n",
       "      <td>NaN</td>\n",
       "      <td>NaN</td>\n",
       "      <td>NaN</td>\n",
       "      <td>675.0</td>\n",
       "      <td>679.0</td>\n",
       "      <td>754.0</td>\n",
       "      <td>750.0</td>\n",
       "    </tr>\n",
       "    <tr>\n",
       "      <th>524281</th>\n",
       "      <td>116948856</td>\n",
       "      <td>NaN</td>\n",
       "      <td>25000.0</td>\n",
       "      <td>25000.0</td>\n",
       "      <td>25000.0</td>\n",
       "      <td>36 months</td>\n",
       "      <td>16.02</td>\n",
       "      <td>879.18</td>\n",
       "      <td>C</td>\n",
       "      <td>C5</td>\n",
       "      <td>...</td>\n",
       "      <td>NaN</td>\n",
       "      <td>NaN</td>\n",
       "      <td>NaN</td>\n",
       "      <td>NaN</td>\n",
       "      <td>NaN</td>\n",
       "      <td>NaN</td>\n",
       "      <td>700.0</td>\n",
       "      <td>704.0</td>\n",
       "      <td>639.0</td>\n",
       "      <td>635.0</td>\n",
       "    </tr>\n",
       "  </tbody>\n",
       "</table>\n",
       "<p>5 rows × 151 columns</p>\n",
       "</div>"
      ],
      "text/plain": [
       "               id  member_id  loan_amnt  funded_amnt  funded_amnt_inv  \\\n",
       "524277   52729049        NaN    15000.0      15000.0          15000.0   \n",
       "524278   56030757        NaN    14500.0      14500.0          14500.0   \n",
       "524279  126378519        NaN    25000.0      25000.0          25000.0   \n",
       "524280  134925617        NaN    10000.0      10000.0          10000.0   \n",
       "524281  116948856        NaN    25000.0      25000.0          25000.0   \n",
       "\n",
       "              term  int_rate  installment grade sub_grade  ...  \\\n",
       "524277   60 months     19.19       390.68     E        E3  ...   \n",
       "524278   36 months      9.17       462.25     B        B2  ...   \n",
       "524279   60 months     15.05       595.41     C        C4  ...   \n",
       "524280   36 months      6.83       308.00     A        A3  ...   \n",
       "524281   36 months     16.02       879.18     C        C5  ...   \n",
       "\n",
       "       debt_settlement_flag_date settlement_status settlement_date  \\\n",
       "524277                       NaN               NaN             NaN   \n",
       "524278                       NaN               NaN             NaN   \n",
       "524279                       NaN               NaN             NaN   \n",
       "524280                       NaN               NaN             NaN   \n",
       "524281                       NaN               NaN             NaN   \n",
       "\n",
       "        settlement_amount settlement_percentage settlement_term  \\\n",
       "524277                NaN                   NaN             NaN   \n",
       "524278                NaN                   NaN             NaN   \n",
       "524279                NaN                   NaN             NaN   \n",
       "524280                NaN                   NaN             NaN   \n",
       "524281                NaN                   NaN             NaN   \n",
       "\n",
       "       fico_range_low fico_range_high last_fico_range_high last_fico_range_low  \n",
       "524277          665.0           669.0                524.0               520.0  \n",
       "524278          690.0           694.0                814.0               810.0  \n",
       "524279          700.0           704.0                739.0               735.0  \n",
       "524280          675.0           679.0                754.0               750.0  \n",
       "524281          700.0           704.0                639.0               635.0  \n",
       "\n",
       "[5 rows x 151 columns]"
      ]
     },
     "execution_count": 58,
     "metadata": {},
     "output_type": "execute_result"
    }
   ],
   "source": [
    "# Displying the last 5 data instances of the Source Model (SM) Raw Data\n",
    "\n",
    "source_model_raw_data.tail()"
   ]
  },
  {
   "cell_type": "markdown",
   "id": "90c80e6e-a413-4b6a-b9d4-eb4aec6dfed3",
   "metadata": {},
   "source": [
    "## Creating and Pre-Processing the new Target (Dependent) Variable - \"fico_score_status\""
   ]
  },
  {
   "cell_type": "markdown",
   "id": "6b5ae20f-ec6f-4cfa-b7f4-000c5481dada",
   "metadata": {},
   "source": [
    "### Creation of a new Target Variable Column named \"fico_score_status\" for the Source Model (SM)"
   ]
  },
  {
   "cell_type": "markdown",
   "id": "5691600b-28a4-403a-a1cd-22d31023f939",
   "metadata": {},
   "source": [
    "### Creating a new column named \"FICO Average Latest\" by taking the average of the 2 attributes \"last_fico_range_high\" and \"last_fico_range_low\""
   ]
  },
  {
   "cell_type": "code",
   "execution_count": 59,
   "id": "5aa78a25-ba23-46dd-8744-dc1e2bd09a6e",
   "metadata": {},
   "outputs": [
    {
     "name": "stdout",
     "output_type": "stream",
     "text": [
      "Execution Completed\n"
     ]
    }
   ],
   "source": [
    "# Initially updating all the values of the \"fico_average_latest\" column with the average/mean of the latest/last fico score low and high values\n",
    "\n",
    "fico_average_latest = (source_model_raw_data['last_fico_range_low'] + source_model_raw_data['last_fico_range_high'])/2\n",
    "source_model_raw_data['fico_average_latest'] = fico_average_latest\n",
    "\n",
    "print(\"Execution Completed\")"
   ]
  },
  {
   "cell_type": "code",
   "execution_count": 60,
   "id": "98f0c35a-9678-419f-a15c-ecaba736b433",
   "metadata": {},
   "outputs": [
    {
     "data": {
      "text/html": [
       "<div>\n",
       "<style scoped>\n",
       "    .dataframe tbody tr th:only-of-type {\n",
       "        vertical-align: middle;\n",
       "    }\n",
       "\n",
       "    .dataframe tbody tr th {\n",
       "        vertical-align: top;\n",
       "    }\n",
       "\n",
       "    .dataframe thead th {\n",
       "        text-align: right;\n",
       "    }\n",
       "</style>\n",
       "<table border=\"1\" class=\"dataframe\">\n",
       "  <thead>\n",
       "    <tr style=\"text-align: right;\">\n",
       "      <th></th>\n",
       "      <th>id</th>\n",
       "      <th>member_id</th>\n",
       "      <th>loan_amnt</th>\n",
       "      <th>funded_amnt</th>\n",
       "      <th>funded_amnt_inv</th>\n",
       "      <th>term</th>\n",
       "      <th>int_rate</th>\n",
       "      <th>installment</th>\n",
       "      <th>grade</th>\n",
       "      <th>sub_grade</th>\n",
       "      <th>...</th>\n",
       "      <th>settlement_status</th>\n",
       "      <th>settlement_date</th>\n",
       "      <th>settlement_amount</th>\n",
       "      <th>settlement_percentage</th>\n",
       "      <th>settlement_term</th>\n",
       "      <th>fico_range_low</th>\n",
       "      <th>fico_range_high</th>\n",
       "      <th>last_fico_range_high</th>\n",
       "      <th>last_fico_range_low</th>\n",
       "      <th>fico_average_latest</th>\n",
       "    </tr>\n",
       "  </thead>\n",
       "  <tbody>\n",
       "    <tr>\n",
       "      <th>0</th>\n",
       "      <td>136243871</td>\n",
       "      <td>NaN</td>\n",
       "      <td>15000.0</td>\n",
       "      <td>15000.0</td>\n",
       "      <td>15000.0</td>\n",
       "      <td>36 months</td>\n",
       "      <td>10.08</td>\n",
       "      <td>484.58</td>\n",
       "      <td>B</td>\n",
       "      <td>B1</td>\n",
       "      <td>...</td>\n",
       "      <td>NaN</td>\n",
       "      <td>NaN</td>\n",
       "      <td>NaN</td>\n",
       "      <td>NaN</td>\n",
       "      <td>NaN</td>\n",
       "      <td>730.0</td>\n",
       "      <td>734.0</td>\n",
       "      <td>619.0</td>\n",
       "      <td>615.0</td>\n",
       "      <td>617.0</td>\n",
       "    </tr>\n",
       "    <tr>\n",
       "      <th>1</th>\n",
       "      <td>63396131</td>\n",
       "      <td>NaN</td>\n",
       "      <td>15000.0</td>\n",
       "      <td>15000.0</td>\n",
       "      <td>15000.0</td>\n",
       "      <td>60 months</td>\n",
       "      <td>8.18</td>\n",
       "      <td>305.44</td>\n",
       "      <td>B</td>\n",
       "      <td>B1</td>\n",
       "      <td>...</td>\n",
       "      <td>NaN</td>\n",
       "      <td>NaN</td>\n",
       "      <td>NaN</td>\n",
       "      <td>NaN</td>\n",
       "      <td>NaN</td>\n",
       "      <td>725.0</td>\n",
       "      <td>729.0</td>\n",
       "      <td>754.0</td>\n",
       "      <td>750.0</td>\n",
       "      <td>752.0</td>\n",
       "    </tr>\n",
       "    <tr>\n",
       "      <th>2</th>\n",
       "      <td>130657021</td>\n",
       "      <td>NaN</td>\n",
       "      <td>15000.0</td>\n",
       "      <td>15000.0</td>\n",
       "      <td>15000.0</td>\n",
       "      <td>60 months</td>\n",
       "      <td>11.98</td>\n",
       "      <td>333.52</td>\n",
       "      <td>B</td>\n",
       "      <td>B5</td>\n",
       "      <td>...</td>\n",
       "      <td>NaN</td>\n",
       "      <td>NaN</td>\n",
       "      <td>NaN</td>\n",
       "      <td>NaN</td>\n",
       "      <td>NaN</td>\n",
       "      <td>720.0</td>\n",
       "      <td>724.0</td>\n",
       "      <td>709.0</td>\n",
       "      <td>705.0</td>\n",
       "      <td>707.0</td>\n",
       "    </tr>\n",
       "    <tr>\n",
       "      <th>3</th>\n",
       "      <td>60635254</td>\n",
       "      <td>NaN</td>\n",
       "      <td>25000.0</td>\n",
       "      <td>25000.0</td>\n",
       "      <td>25000.0</td>\n",
       "      <td>60 months</td>\n",
       "      <td>15.61</td>\n",
       "      <td>602.79</td>\n",
       "      <td>D</td>\n",
       "      <td>D1</td>\n",
       "      <td>...</td>\n",
       "      <td>NaN</td>\n",
       "      <td>NaN</td>\n",
       "      <td>NaN</td>\n",
       "      <td>NaN</td>\n",
       "      <td>NaN</td>\n",
       "      <td>720.0</td>\n",
       "      <td>724.0</td>\n",
       "      <td>644.0</td>\n",
       "      <td>640.0</td>\n",
       "      <td>642.0</td>\n",
       "    </tr>\n",
       "    <tr>\n",
       "      <th>4</th>\n",
       "      <td>129371880</td>\n",
       "      <td>NaN</td>\n",
       "      <td>36000.0</td>\n",
       "      <td>36000.0</td>\n",
       "      <td>36000.0</td>\n",
       "      <td>60 months</td>\n",
       "      <td>21.85</td>\n",
       "      <td>991.22</td>\n",
       "      <td>D</td>\n",
       "      <td>D5</td>\n",
       "      <td>...</td>\n",
       "      <td>NaN</td>\n",
       "      <td>NaN</td>\n",
       "      <td>NaN</td>\n",
       "      <td>NaN</td>\n",
       "      <td>NaN</td>\n",
       "      <td>690.0</td>\n",
       "      <td>694.0</td>\n",
       "      <td>749.0</td>\n",
       "      <td>745.0</td>\n",
       "      <td>747.0</td>\n",
       "    </tr>\n",
       "  </tbody>\n",
       "</table>\n",
       "<p>5 rows × 152 columns</p>\n",
       "</div>"
      ],
      "text/plain": [
       "          id  member_id  loan_amnt  funded_amnt  funded_amnt_inv        term  \\\n",
       "0  136243871        NaN    15000.0      15000.0          15000.0   36 months   \n",
       "1   63396131        NaN    15000.0      15000.0          15000.0   60 months   \n",
       "2  130657021        NaN    15000.0      15000.0          15000.0   60 months   \n",
       "3   60635254        NaN    25000.0      25000.0          25000.0   60 months   \n",
       "4  129371880        NaN    36000.0      36000.0          36000.0   60 months   \n",
       "\n",
       "   int_rate  installment grade sub_grade  ... settlement_status  \\\n",
       "0     10.08       484.58     B        B1  ...               NaN   \n",
       "1      8.18       305.44     B        B1  ...               NaN   \n",
       "2     11.98       333.52     B        B5  ...               NaN   \n",
       "3     15.61       602.79     D        D1  ...               NaN   \n",
       "4     21.85       991.22     D        D5  ...               NaN   \n",
       "\n",
       "  settlement_date settlement_amount  settlement_percentage settlement_term  \\\n",
       "0             NaN               NaN                    NaN             NaN   \n",
       "1             NaN               NaN                    NaN             NaN   \n",
       "2             NaN               NaN                    NaN             NaN   \n",
       "3             NaN               NaN                    NaN             NaN   \n",
       "4             NaN               NaN                    NaN             NaN   \n",
       "\n",
       "  fico_range_low fico_range_high last_fico_range_high last_fico_range_low  \\\n",
       "0          730.0           734.0                619.0               615.0   \n",
       "1          725.0           729.0                754.0               750.0   \n",
       "2          720.0           724.0                709.0               705.0   \n",
       "3          720.0           724.0                644.0               640.0   \n",
       "4          690.0           694.0                749.0               745.0   \n",
       "\n",
       "  fico_average_latest  \n",
       "0               617.0  \n",
       "1               752.0  \n",
       "2               707.0  \n",
       "3               642.0  \n",
       "4               747.0  \n",
       "\n",
       "[5 rows x 152 columns]"
      ]
     },
     "execution_count": 60,
     "metadata": {},
     "output_type": "execute_result"
    }
   ],
   "source": [
    "# Displying the first 5 data instances of the Source Model (SM) Data\n",
    "\n",
    "source_model_raw_data.head()"
   ]
  },
  {
   "cell_type": "code",
   "execution_count": 61,
   "id": "68267c26-b7d6-4a9f-9b0c-06c0bc914d0d",
   "metadata": {},
   "outputs": [
    {
     "name": "stdout",
     "output_type": "stream",
     "text": [
      "Execution Completed\n"
     ]
    }
   ],
   "source": [
    "# Conditional handling of zero values in \"last_fico_range_low\" column or \"last_fico_range_high\" column or in both the columns\n",
    "\n",
    "#condition_1 = (source_model_raw_data['last_fico_range_low'] != 0.0) & (source_model_raw_data['last_fico_range_high'] == 0.0)\n",
    "#condition_2 = (source_model_raw_data['last_fico_range_low'] == 0.0) & (source_model_raw_data['last_fico_range_high'] != 0.0)\n",
    "#condition_3 = (source_model_raw_data['last_fico_range_low'] == 0.0) & (source_model_raw_data['last_fico_range_high'] == 0.0)\n",
    "#condition_4 = (source_model_raw_data['last_fico_range_low'] != 0.0) & (source_model_raw_data['last_fico_range_high'] != 0.0)\n",
    "\n",
    "# Set the value of \"fico_average_latest\" to the value in \"last_fico_range_low\"; if \"last_fico_range_high\" value is zero\n",
    "source_model_raw_data['fico_average_latest'] = np.where((source_model_raw_data['last_fico_range_low'] != 0.0) & (source_model_raw_data['last_fico_range_high'] == 0.0), source_model_raw_data['last_fico_range_low'], source_model_raw_data['fico_average_latest'])\n",
    "\n",
    "# Set the value of \"fico_average_latest\" to the value in \"last_fico_range_high\"; if \"last_fico_range_low\" value is zero\n",
    "source_model_raw_data['fico_average_latest'] = np.where((source_model_raw_data['last_fico_range_low'] == 0.0) & (source_model_raw_data['last_fico_range_high'] != 0.0), source_model_raw_data['last_fico_range_high'], source_model_raw_data['fico_average_latest'])\n",
    "\n",
    "# Last Observation Carried Forward (LOCF) Method\n",
    "# Set the value of \"fico_average_latest\" to the mean value of \"fico_range_low\" and \"fico_range_high\"; if both \"last_fico_range_low\" and \"last_fico_range_high\" values are zero\n",
    "source_model_raw_data['fico_average_latest'] = np.where((source_model_raw_data['last_fico_range_low'] == 0.0) & (source_model_raw_data['last_fico_range_high'] == 0.0), (source_model_raw_data['fico_range_low'] + source_model_raw_data['fico_range_high'])/2, source_model_raw_data['fico_average_latest'])\n",
    "\n",
    "# Set the value of \"fico_average_latest\" to the mean value of \"last_fico_range_low\" and \"last_fico_range_high\"; if both \"last_fico_range_low\" and \"last_fico_range_high\" values are not equal to zero\n",
    "source_model_raw_data['fico_average_latest'] = np.where((source_model_raw_data['last_fico_range_low'] != 0.0) & (source_model_raw_data['last_fico_range_high'] != 0.0), (source_model_raw_data['last_fico_range_low'] + source_model_raw_data['last_fico_range_high'])/2, source_model_raw_data['fico_average_latest'])\n",
    "\n",
    "\n",
    "print(\"Execution Completed\")"
   ]
  },
  {
   "cell_type": "code",
   "execution_count": 62,
   "id": "12505639-bd25-4727-892e-8e96b5257c21",
   "metadata": {},
   "outputs": [
    {
     "data": {
      "text/plain": [
       "dtype('float64')"
      ]
     },
     "execution_count": 62,
     "metadata": {},
     "output_type": "execute_result"
    }
   ],
   "source": [
    "# Checking the datatype of the newly added column \"fico_average_latest\"\n",
    "\n",
    "source_model_raw_data['fico_average_latest'].dtype"
   ]
  },
  {
   "cell_type": "code",
   "execution_count": 63,
   "id": "62f03828-99f3-4f07-9c23-41dbad7cce3e",
   "metadata": {},
   "outputs": [
    {
     "data": {
      "text/plain": [
       "(524282,)"
      ]
     },
     "execution_count": 63,
     "metadata": {},
     "output_type": "execute_result"
    }
   ],
   "source": [
    "# Checking the size of the newly added column \"fico_average_latest\"\n",
    "\n",
    "source_model_raw_data['fico_average_latest'].shape"
   ]
  },
  {
   "cell_type": "code",
   "execution_count": 19,
   "id": "6204b428-bcc4-4c56-9e67-42953b1e72b9",
   "metadata": {},
   "outputs": [
    {
     "data": {
      "text/plain": [
       "count    524280.000000\n",
       "mean        684.926303\n",
       "std          72.948688\n",
       "min         499.000000\n",
       "25%         652.000000\n",
       "50%         697.000000\n",
       "75%         732.000000\n",
       "max         847.500000\n",
       "Name: fico_average_latest, dtype: float64"
      ]
     },
     "execution_count": 19,
     "metadata": {},
     "output_type": "execute_result"
    }
   ],
   "source": [
    "# Checking the descriptive statistics of the column \"fico_average_latest\"\n",
    "\n",
    "source_model_raw_data['fico_average_latest'].describe()"
   ]
  },
  {
   "cell_type": "code",
   "execution_count": 17,
   "id": "2a4b027f-f399-4d9b-9653-ea8a318620bf",
   "metadata": {},
   "outputs": [
    {
     "data": {
      "text/plain": [
       "499.0"
      ]
     },
     "execution_count": 17,
     "metadata": {},
     "output_type": "execute_result"
    }
   ],
   "source": [
    "# Checking the minimum fico average score value\n",
    "\n",
    "source_model_raw_data['fico_average_latest'].min()"
   ]
  },
  {
   "cell_type": "code",
   "execution_count": 18,
   "id": "626a67cc-d4a5-4e7c-8524-c429a331600c",
   "metadata": {},
   "outputs": [
    {
     "data": {
      "text/plain": [
       "847.5"
      ]
     },
     "execution_count": 18,
     "metadata": {},
     "output_type": "execute_result"
    }
   ],
   "source": [
    "# Checking the maximum fico average score value\n",
    "\n",
    "source_model_raw_data['fico_average_latest'].max()"
   ]
  },
  {
   "cell_type": "code",
   "execution_count": 21,
   "id": "5cbf5b47-e85a-4166-b200-b89008b1bbf4",
   "metadata": {},
   "outputs": [
    {
     "data": {
      "text/html": [
       "<div>\n",
       "<style scoped>\n",
       "    .dataframe tbody tr th:only-of-type {\n",
       "        vertical-align: middle;\n",
       "    }\n",
       "\n",
       "    .dataframe tbody tr th {\n",
       "        vertical-align: top;\n",
       "    }\n",
       "\n",
       "    .dataframe thead th {\n",
       "        text-align: right;\n",
       "    }\n",
       "</style>\n",
       "<table border=\"1\" class=\"dataframe\">\n",
       "  <thead>\n",
       "    <tr style=\"text-align: right;\">\n",
       "      <th></th>\n",
       "      <th>id</th>\n",
       "      <th>member_id</th>\n",
       "      <th>loan_amnt</th>\n",
       "      <th>funded_amnt</th>\n",
       "      <th>funded_amnt_inv</th>\n",
       "      <th>term</th>\n",
       "      <th>int_rate</th>\n",
       "      <th>installment</th>\n",
       "      <th>grade</th>\n",
       "      <th>sub_grade</th>\n",
       "      <th>...</th>\n",
       "      <th>settlement_status</th>\n",
       "      <th>settlement_date</th>\n",
       "      <th>settlement_amount</th>\n",
       "      <th>settlement_percentage</th>\n",
       "      <th>settlement_term</th>\n",
       "      <th>fico_range_low</th>\n",
       "      <th>fico_range_high</th>\n",
       "      <th>last_fico_range_high</th>\n",
       "      <th>last_fico_range_low</th>\n",
       "      <th>fico_average_latest</th>\n",
       "    </tr>\n",
       "  </thead>\n",
       "  <tbody>\n",
       "  </tbody>\n",
       "</table>\n",
       "<p>0 rows × 152 columns</p>\n",
       "</div>"
      ],
      "text/plain": [
       "Empty DataFrame\n",
       "Columns: [id, member_id, loan_amnt, funded_amnt, funded_amnt_inv, term, int_rate, installment, grade, sub_grade, emp_title, emp_length, home_ownership, annual_inc, verification_status, issue_d, loan_status, pymnt_plan, url, desc, purpose, title, zip_code, addr_state, dti, delinq_2yrs, earliest_cr_line, inq_last_6mths, mths_since_last_delinq, mths_since_last_record, open_acc, pub_rec, revol_bal, revol_util, total_acc, initial_list_status, out_prncp, out_prncp_inv, total_pymnt, total_pymnt_inv, total_rec_prncp, total_rec_int, total_rec_late_fee, recoveries, collection_recovery_fee, last_pymnt_d, last_pymnt_amnt, next_pymnt_d, last_credit_pull_d, collections_12_mths_ex_med, mths_since_last_major_derog, policy_code, application_type, annual_inc_joint, dti_joint, verification_status_joint, acc_now_delinq, tot_coll_amt, tot_cur_bal, open_acc_6m, open_il_6m, open_il_12m, open_il_24m, mths_since_rcnt_il, total_bal_il, il_util, open_rv_12m, open_rv_24m, max_bal_bc, all_util, total_rev_hi_lim, inq_fi, total_cu_tl, inq_last_12m, acc_open_past_24mths, avg_cur_bal, bc_open_to_buy, bc_util, chargeoff_within_12_mths, delinq_amnt, mo_sin_old_il_acct, mo_sin_old_rev_tl_op, mo_sin_rcnt_rev_tl_op, mo_sin_rcnt_tl, mort_acc, mths_since_recent_bc, mths_since_recent_bc_dlq, mths_since_recent_inq, mths_since_recent_revol_delinq, num_accts_ever_120_pd, num_actv_bc_tl, num_actv_rev_tl, num_bc_sats, num_bc_tl, num_il_tl, num_op_rev_tl, num_rev_accts, num_rev_tl_bal_gt_0, num_sats, num_tl_120dpd_2m, ...]\n",
       "Index: []\n",
       "\n",
       "[0 rows x 152 columns]"
      ]
     },
     "execution_count": 21,
     "metadata": {},
     "output_type": "execute_result"
    }
   ],
   "source": [
    "# Querying and verifying the list of rows with missing values in \"fico_average_latest\"\n",
    "\n",
    "source_model_raw_data.query(\"fico_average_latest == 0\")"
   ]
  },
  {
   "cell_type": "code",
   "execution_count": 23,
   "id": "bd5014ae-9b8a-412c-ad59-3c20ba23234a",
   "metadata": {},
   "outputs": [
    {
     "data": {
      "text/plain": [
       "8"
      ]
     },
     "execution_count": 23,
     "metadata": {},
     "output_type": "execute_result"
    }
   ],
   "source": [
    "source_model_raw_data['last_fico_range_low'].isnull().sum()"
   ]
  },
  {
   "cell_type": "code",
   "execution_count": 24,
   "id": "8a680885-2a27-4330-b93b-70a18e4f6ad3",
   "metadata": {},
   "outputs": [
    {
     "data": {
      "text/plain": [
       "8"
      ]
     },
     "execution_count": 24,
     "metadata": {},
     "output_type": "execute_result"
    }
   ],
   "source": [
    "source_model_raw_data['last_fico_range_high'].isnull().sum()"
   ]
  },
  {
   "cell_type": "code",
   "execution_count": 22,
   "id": "b7a5cbf2-73fa-4f22-8765-1cbb70c35004",
   "metadata": {},
   "outputs": [
    {
     "data": {
      "text/plain": [
       "8"
      ]
     },
     "execution_count": 22,
     "metadata": {},
     "output_type": "execute_result"
    }
   ],
   "source": [
    "# Verifying the list of rows with \"NaN\" values in \"fico_average_latest\"\n",
    "\n",
    "source_model_raw_data['fico_average_latest'].isnull().sum()"
   ]
  },
  {
   "cell_type": "code",
   "execution_count": 32,
   "id": "677061b1-93cf-48de-82de-7898d8a70650",
   "metadata": {},
   "outputs": [
    {
     "data": {
      "text/plain": [
       "last_fico_range_low     8\n",
       "last_fico_range_high    8\n",
       "fico_average_latest     8\n",
       "dtype: int64"
      ]
     },
     "execution_count": 32,
     "metadata": {},
     "output_type": "execute_result"
    }
   ],
   "source": [
    "source_model_raw_data[['last_fico_range_low', 'last_fico_range_high', 'fico_average_latest']].isnull().sum()"
   ]
  },
  {
   "cell_type": "code",
   "execution_count": 40,
   "id": "cd4e3417-d7ef-4922-9a1e-d4605ae44436",
   "metadata": {},
   "outputs": [
    {
     "data": {
      "text/html": [
       "<div>\n",
       "<style scoped>\n",
       "    .dataframe tbody tr th:only-of-type {\n",
       "        vertical-align: middle;\n",
       "    }\n",
       "\n",
       "    .dataframe tbody tr th {\n",
       "        vertical-align: top;\n",
       "    }\n",
       "\n",
       "    .dataframe thead th {\n",
       "        text-align: right;\n",
       "    }\n",
       "</style>\n",
       "<table border=\"1\" class=\"dataframe\">\n",
       "  <thead>\n",
       "    <tr style=\"text-align: right;\">\n",
       "      <th></th>\n",
       "      <th>id</th>\n",
       "      <th>member_id</th>\n",
       "      <th>loan_amnt</th>\n",
       "      <th>funded_amnt</th>\n",
       "      <th>funded_amnt_inv</th>\n",
       "      <th>term</th>\n",
       "      <th>int_rate</th>\n",
       "      <th>installment</th>\n",
       "      <th>grade</th>\n",
       "      <th>sub_grade</th>\n",
       "      <th>...</th>\n",
       "      <th>settlement_status</th>\n",
       "      <th>settlement_date</th>\n",
       "      <th>settlement_amount</th>\n",
       "      <th>settlement_percentage</th>\n",
       "      <th>settlement_term</th>\n",
       "      <th>fico_range_low</th>\n",
       "      <th>fico_range_high</th>\n",
       "      <th>last_fico_range_high</th>\n",
       "      <th>last_fico_range_low</th>\n",
       "      <th>fico_average_latest</th>\n",
       "    </tr>\n",
       "  </thead>\n",
       "  <tbody>\n",
       "    <tr>\n",
       "      <th>54756</th>\n",
       "      <td>Total amount funded in policy code 1: 1791201400</td>\n",
       "      <td>NaN</td>\n",
       "      <td>NaN</td>\n",
       "      <td>NaN</td>\n",
       "      <td>NaN</td>\n",
       "      <td>NaN</td>\n",
       "      <td>NaN</td>\n",
       "      <td>NaN</td>\n",
       "      <td>NaN</td>\n",
       "      <td>NaN</td>\n",
       "      <td>...</td>\n",
       "      <td>NaN</td>\n",
       "      <td>NaN</td>\n",
       "      <td>NaN</td>\n",
       "      <td>NaN</td>\n",
       "      <td>NaN</td>\n",
       "      <td>NaN</td>\n",
       "      <td>NaN</td>\n",
       "      <td>NaN</td>\n",
       "      <td>NaN</td>\n",
       "      <td>NaN</td>\n",
       "    </tr>\n",
       "    <tr>\n",
       "      <th>260738</th>\n",
       "      <td>Total amount funded in policy code 1: 1443412975</td>\n",
       "      <td>NaN</td>\n",
       "      <td>NaN</td>\n",
       "      <td>NaN</td>\n",
       "      <td>NaN</td>\n",
       "      <td>NaN</td>\n",
       "      <td>NaN</td>\n",
       "      <td>NaN</td>\n",
       "      <td>NaN</td>\n",
       "      <td>NaN</td>\n",
       "      <td>...</td>\n",
       "      <td>NaN</td>\n",
       "      <td>NaN</td>\n",
       "      <td>NaN</td>\n",
       "      <td>NaN</td>\n",
       "      <td>NaN</td>\n",
       "      <td>NaN</td>\n",
       "      <td>NaN</td>\n",
       "      <td>NaN</td>\n",
       "      <td>NaN</td>\n",
       "      <td>NaN</td>\n",
       "    </tr>\n",
       "    <tr>\n",
       "      <th>275181</th>\n",
       "      <td>Total amount funded in policy code 1: 1538432075</td>\n",
       "      <td>NaN</td>\n",
       "      <td>NaN</td>\n",
       "      <td>NaN</td>\n",
       "      <td>NaN</td>\n",
       "      <td>NaN</td>\n",
       "      <td>NaN</td>\n",
       "      <td>NaN</td>\n",
       "      <td>NaN</td>\n",
       "      <td>NaN</td>\n",
       "      <td>...</td>\n",
       "      <td>NaN</td>\n",
       "      <td>NaN</td>\n",
       "      <td>NaN</td>\n",
       "      <td>NaN</td>\n",
       "      <td>NaN</td>\n",
       "      <td>NaN</td>\n",
       "      <td>NaN</td>\n",
       "      <td>NaN</td>\n",
       "      <td>NaN</td>\n",
       "      <td>NaN</td>\n",
       "    </tr>\n",
       "    <tr>\n",
       "      <th>339248</th>\n",
       "      <td>Total amount funded in policy code 2: 564202131</td>\n",
       "      <td>NaN</td>\n",
       "      <td>NaN</td>\n",
       "      <td>NaN</td>\n",
       "      <td>NaN</td>\n",
       "      <td>NaN</td>\n",
       "      <td>NaN</td>\n",
       "      <td>NaN</td>\n",
       "      <td>NaN</td>\n",
       "      <td>NaN</td>\n",
       "      <td>...</td>\n",
       "      <td>NaN</td>\n",
       "      <td>NaN</td>\n",
       "      <td>NaN</td>\n",
       "      <td>NaN</td>\n",
       "      <td>NaN</td>\n",
       "      <td>NaN</td>\n",
       "      <td>NaN</td>\n",
       "      <td>NaN</td>\n",
       "      <td>NaN</td>\n",
       "      <td>NaN</td>\n",
       "    </tr>\n",
       "    <tr>\n",
       "      <th>357827</th>\n",
       "      <td>Total amount funded in policy code 2: 511988838</td>\n",
       "      <td>NaN</td>\n",
       "      <td>NaN</td>\n",
       "      <td>NaN</td>\n",
       "      <td>NaN</td>\n",
       "      <td>NaN</td>\n",
       "      <td>NaN</td>\n",
       "      <td>NaN</td>\n",
       "      <td>NaN</td>\n",
       "      <td>NaN</td>\n",
       "      <td>...</td>\n",
       "      <td>NaN</td>\n",
       "      <td>NaN</td>\n",
       "      <td>NaN</td>\n",
       "      <td>NaN</td>\n",
       "      <td>NaN</td>\n",
       "      <td>NaN</td>\n",
       "      <td>NaN</td>\n",
       "      <td>NaN</td>\n",
       "      <td>NaN</td>\n",
       "      <td>NaN</td>\n",
       "    </tr>\n",
       "    <tr>\n",
       "      <th>431988</th>\n",
       "      <td>Total amount funded in policy code 1: 2063142975</td>\n",
       "      <td>NaN</td>\n",
       "      <td>NaN</td>\n",
       "      <td>NaN</td>\n",
       "      <td>NaN</td>\n",
       "      <td>NaN</td>\n",
       "      <td>NaN</td>\n",
       "      <td>NaN</td>\n",
       "      <td>NaN</td>\n",
       "      <td>NaN</td>\n",
       "      <td>...</td>\n",
       "      <td>NaN</td>\n",
       "      <td>NaN</td>\n",
       "      <td>NaN</td>\n",
       "      <td>NaN</td>\n",
       "      <td>NaN</td>\n",
       "      <td>NaN</td>\n",
       "      <td>NaN</td>\n",
       "      <td>NaN</td>\n",
       "      <td>NaN</td>\n",
       "      <td>NaN</td>\n",
       "    </tr>\n",
       "    <tr>\n",
       "      <th>502875</th>\n",
       "      <td>Total amount funded in policy code 1: 6417608175</td>\n",
       "      <td>NaN</td>\n",
       "      <td>NaN</td>\n",
       "      <td>NaN</td>\n",
       "      <td>NaN</td>\n",
       "      <td>NaN</td>\n",
       "      <td>NaN</td>\n",
       "      <td>NaN</td>\n",
       "      <td>NaN</td>\n",
       "      <td>NaN</td>\n",
       "      <td>...</td>\n",
       "      <td>NaN</td>\n",
       "      <td>NaN</td>\n",
       "      <td>NaN</td>\n",
       "      <td>NaN</td>\n",
       "      <td>NaN</td>\n",
       "      <td>NaN</td>\n",
       "      <td>NaN</td>\n",
       "      <td>NaN</td>\n",
       "      <td>NaN</td>\n",
       "      <td>NaN</td>\n",
       "    </tr>\n",
       "    <tr>\n",
       "      <th>506724</th>\n",
       "      <td>Total amount funded in policy code 1: 1741781700</td>\n",
       "      <td>NaN</td>\n",
       "      <td>NaN</td>\n",
       "      <td>NaN</td>\n",
       "      <td>NaN</td>\n",
       "      <td>NaN</td>\n",
       "      <td>NaN</td>\n",
       "      <td>NaN</td>\n",
       "      <td>NaN</td>\n",
       "      <td>NaN</td>\n",
       "      <td>...</td>\n",
       "      <td>NaN</td>\n",
       "      <td>NaN</td>\n",
       "      <td>NaN</td>\n",
       "      <td>NaN</td>\n",
       "      <td>NaN</td>\n",
       "      <td>NaN</td>\n",
       "      <td>NaN</td>\n",
       "      <td>NaN</td>\n",
       "      <td>NaN</td>\n",
       "      <td>NaN</td>\n",
       "    </tr>\n",
       "  </tbody>\n",
       "</table>\n",
       "<p>8 rows × 152 columns</p>\n",
       "</div>"
      ],
      "text/plain": [
       "                                                      id  member_id  \\\n",
       "54756   Total amount funded in policy code 1: 1791201400        NaN   \n",
       "260738  Total amount funded in policy code 1: 1443412975        NaN   \n",
       "275181  Total amount funded in policy code 1: 1538432075        NaN   \n",
       "339248   Total amount funded in policy code 2: 564202131        NaN   \n",
       "357827   Total amount funded in policy code 2: 511988838        NaN   \n",
       "431988  Total amount funded in policy code 1: 2063142975        NaN   \n",
       "502875  Total amount funded in policy code 1: 6417608175        NaN   \n",
       "506724  Total amount funded in policy code 1: 1741781700        NaN   \n",
       "\n",
       "        loan_amnt  funded_amnt  funded_amnt_inv term  int_rate  installment  \\\n",
       "54756         NaN          NaN              NaN  NaN       NaN          NaN   \n",
       "260738        NaN          NaN              NaN  NaN       NaN          NaN   \n",
       "275181        NaN          NaN              NaN  NaN       NaN          NaN   \n",
       "339248        NaN          NaN              NaN  NaN       NaN          NaN   \n",
       "357827        NaN          NaN              NaN  NaN       NaN          NaN   \n",
       "431988        NaN          NaN              NaN  NaN       NaN          NaN   \n",
       "502875        NaN          NaN              NaN  NaN       NaN          NaN   \n",
       "506724        NaN          NaN              NaN  NaN       NaN          NaN   \n",
       "\n",
       "       grade sub_grade  ... settlement_status settlement_date  \\\n",
       "54756    NaN       NaN  ...               NaN             NaN   \n",
       "260738   NaN       NaN  ...               NaN             NaN   \n",
       "275181   NaN       NaN  ...               NaN             NaN   \n",
       "339248   NaN       NaN  ...               NaN             NaN   \n",
       "357827   NaN       NaN  ...               NaN             NaN   \n",
       "431988   NaN       NaN  ...               NaN             NaN   \n",
       "502875   NaN       NaN  ...               NaN             NaN   \n",
       "506724   NaN       NaN  ...               NaN             NaN   \n",
       "\n",
       "       settlement_amount  settlement_percentage settlement_term  \\\n",
       "54756                NaN                    NaN             NaN   \n",
       "260738               NaN                    NaN             NaN   \n",
       "275181               NaN                    NaN             NaN   \n",
       "339248               NaN                    NaN             NaN   \n",
       "357827               NaN                    NaN             NaN   \n",
       "431988               NaN                    NaN             NaN   \n",
       "502875               NaN                    NaN             NaN   \n",
       "506724               NaN                    NaN             NaN   \n",
       "\n",
       "       fico_range_low fico_range_high last_fico_range_high  \\\n",
       "54756             NaN             NaN                  NaN   \n",
       "260738            NaN             NaN                  NaN   \n",
       "275181            NaN             NaN                  NaN   \n",
       "339248            NaN             NaN                  NaN   \n",
       "357827            NaN             NaN                  NaN   \n",
       "431988            NaN             NaN                  NaN   \n",
       "502875            NaN             NaN                  NaN   \n",
       "506724            NaN             NaN                  NaN   \n",
       "\n",
       "       last_fico_range_low fico_average_latest  \n",
       "54756                  NaN                 NaN  \n",
       "260738                 NaN                 NaN  \n",
       "275181                 NaN                 NaN  \n",
       "339248                 NaN                 NaN  \n",
       "357827                 NaN                 NaN  \n",
       "431988                 NaN                 NaN  \n",
       "502875                 NaN                 NaN  \n",
       "506724                 NaN                 NaN  \n",
       "\n",
       "[8 rows x 152 columns]"
      ]
     },
     "execution_count": 40,
     "metadata": {},
     "output_type": "execute_result"
    }
   ],
   "source": [
    "fico_null_rows = pd.isnull(source_model_raw_data['last_fico_range_low'])\n",
    "source_model_raw_data[fico_null_rows]"
   ]
  },
  {
   "cell_type": "code",
   "execution_count": 46,
   "id": "06745db0-5dda-4ba5-b99c-bad60e0565e9",
   "metadata": {},
   "outputs": [
    {
     "data": {
      "text/html": [
       "<div>\n",
       "<style scoped>\n",
       "    .dataframe tbody tr th:only-of-type {\n",
       "        vertical-align: middle;\n",
       "    }\n",
       "\n",
       "    .dataframe tbody tr th {\n",
       "        vertical-align: top;\n",
       "    }\n",
       "\n",
       "    .dataframe thead th {\n",
       "        text-align: right;\n",
       "    }\n",
       "</style>\n",
       "<table border=\"1\" class=\"dataframe\">\n",
       "  <thead>\n",
       "    <tr style=\"text-align: right;\">\n",
       "      <th></th>\n",
       "      <th>id</th>\n",
       "      <th>member_id</th>\n",
       "      <th>loan_amnt</th>\n",
       "      <th>funded_amnt</th>\n",
       "      <th>funded_amnt_inv</th>\n",
       "      <th>term</th>\n",
       "      <th>int_rate</th>\n",
       "      <th>installment</th>\n",
       "      <th>grade</th>\n",
       "      <th>sub_grade</th>\n",
       "      <th>...</th>\n",
       "      <th>settlement_status</th>\n",
       "      <th>settlement_date</th>\n",
       "      <th>settlement_amount</th>\n",
       "      <th>settlement_percentage</th>\n",
       "      <th>settlement_term</th>\n",
       "      <th>fico_range_low</th>\n",
       "      <th>fico_range_high</th>\n",
       "      <th>last_fico_range_high</th>\n",
       "      <th>last_fico_range_low</th>\n",
       "      <th>fico_average_latest</th>\n",
       "    </tr>\n",
       "  </thead>\n",
       "  <tbody>\n",
       "    <tr>\n",
       "      <th>54756</th>\n",
       "      <td>Total amount funded in policy code 1: 1791201400</td>\n",
       "      <td>NaN</td>\n",
       "      <td>NaN</td>\n",
       "      <td>NaN</td>\n",
       "      <td>NaN</td>\n",
       "      <td>NaN</td>\n",
       "      <td>NaN</td>\n",
       "      <td>NaN</td>\n",
       "      <td>NaN</td>\n",
       "      <td>NaN</td>\n",
       "      <td>...</td>\n",
       "      <td>NaN</td>\n",
       "      <td>NaN</td>\n",
       "      <td>NaN</td>\n",
       "      <td>NaN</td>\n",
       "      <td>NaN</td>\n",
       "      <td>NaN</td>\n",
       "      <td>NaN</td>\n",
       "      <td>NaN</td>\n",
       "      <td>NaN</td>\n",
       "      <td>NaN</td>\n",
       "    </tr>\n",
       "    <tr>\n",
       "      <th>260738</th>\n",
       "      <td>Total amount funded in policy code 1: 1443412975</td>\n",
       "      <td>NaN</td>\n",
       "      <td>NaN</td>\n",
       "      <td>NaN</td>\n",
       "      <td>NaN</td>\n",
       "      <td>NaN</td>\n",
       "      <td>NaN</td>\n",
       "      <td>NaN</td>\n",
       "      <td>NaN</td>\n",
       "      <td>NaN</td>\n",
       "      <td>...</td>\n",
       "      <td>NaN</td>\n",
       "      <td>NaN</td>\n",
       "      <td>NaN</td>\n",
       "      <td>NaN</td>\n",
       "      <td>NaN</td>\n",
       "      <td>NaN</td>\n",
       "      <td>NaN</td>\n",
       "      <td>NaN</td>\n",
       "      <td>NaN</td>\n",
       "      <td>NaN</td>\n",
       "    </tr>\n",
       "    <tr>\n",
       "      <th>275181</th>\n",
       "      <td>Total amount funded in policy code 1: 1538432075</td>\n",
       "      <td>NaN</td>\n",
       "      <td>NaN</td>\n",
       "      <td>NaN</td>\n",
       "      <td>NaN</td>\n",
       "      <td>NaN</td>\n",
       "      <td>NaN</td>\n",
       "      <td>NaN</td>\n",
       "      <td>NaN</td>\n",
       "      <td>NaN</td>\n",
       "      <td>...</td>\n",
       "      <td>NaN</td>\n",
       "      <td>NaN</td>\n",
       "      <td>NaN</td>\n",
       "      <td>NaN</td>\n",
       "      <td>NaN</td>\n",
       "      <td>NaN</td>\n",
       "      <td>NaN</td>\n",
       "      <td>NaN</td>\n",
       "      <td>NaN</td>\n",
       "      <td>NaN</td>\n",
       "    </tr>\n",
       "    <tr>\n",
       "      <th>339248</th>\n",
       "      <td>Total amount funded in policy code 2: 564202131</td>\n",
       "      <td>NaN</td>\n",
       "      <td>NaN</td>\n",
       "      <td>NaN</td>\n",
       "      <td>NaN</td>\n",
       "      <td>NaN</td>\n",
       "      <td>NaN</td>\n",
       "      <td>NaN</td>\n",
       "      <td>NaN</td>\n",
       "      <td>NaN</td>\n",
       "      <td>...</td>\n",
       "      <td>NaN</td>\n",
       "      <td>NaN</td>\n",
       "      <td>NaN</td>\n",
       "      <td>NaN</td>\n",
       "      <td>NaN</td>\n",
       "      <td>NaN</td>\n",
       "      <td>NaN</td>\n",
       "      <td>NaN</td>\n",
       "      <td>NaN</td>\n",
       "      <td>NaN</td>\n",
       "    </tr>\n",
       "    <tr>\n",
       "      <th>357827</th>\n",
       "      <td>Total amount funded in policy code 2: 511988838</td>\n",
       "      <td>NaN</td>\n",
       "      <td>NaN</td>\n",
       "      <td>NaN</td>\n",
       "      <td>NaN</td>\n",
       "      <td>NaN</td>\n",
       "      <td>NaN</td>\n",
       "      <td>NaN</td>\n",
       "      <td>NaN</td>\n",
       "      <td>NaN</td>\n",
       "      <td>...</td>\n",
       "      <td>NaN</td>\n",
       "      <td>NaN</td>\n",
       "      <td>NaN</td>\n",
       "      <td>NaN</td>\n",
       "      <td>NaN</td>\n",
       "      <td>NaN</td>\n",
       "      <td>NaN</td>\n",
       "      <td>NaN</td>\n",
       "      <td>NaN</td>\n",
       "      <td>NaN</td>\n",
       "    </tr>\n",
       "    <tr>\n",
       "      <th>431988</th>\n",
       "      <td>Total amount funded in policy code 1: 2063142975</td>\n",
       "      <td>NaN</td>\n",
       "      <td>NaN</td>\n",
       "      <td>NaN</td>\n",
       "      <td>NaN</td>\n",
       "      <td>NaN</td>\n",
       "      <td>NaN</td>\n",
       "      <td>NaN</td>\n",
       "      <td>NaN</td>\n",
       "      <td>NaN</td>\n",
       "      <td>...</td>\n",
       "      <td>NaN</td>\n",
       "      <td>NaN</td>\n",
       "      <td>NaN</td>\n",
       "      <td>NaN</td>\n",
       "      <td>NaN</td>\n",
       "      <td>NaN</td>\n",
       "      <td>NaN</td>\n",
       "      <td>NaN</td>\n",
       "      <td>NaN</td>\n",
       "      <td>NaN</td>\n",
       "    </tr>\n",
       "    <tr>\n",
       "      <th>502875</th>\n",
       "      <td>Total amount funded in policy code 1: 6417608175</td>\n",
       "      <td>NaN</td>\n",
       "      <td>NaN</td>\n",
       "      <td>NaN</td>\n",
       "      <td>NaN</td>\n",
       "      <td>NaN</td>\n",
       "      <td>NaN</td>\n",
       "      <td>NaN</td>\n",
       "      <td>NaN</td>\n",
       "      <td>NaN</td>\n",
       "      <td>...</td>\n",
       "      <td>NaN</td>\n",
       "      <td>NaN</td>\n",
       "      <td>NaN</td>\n",
       "      <td>NaN</td>\n",
       "      <td>NaN</td>\n",
       "      <td>NaN</td>\n",
       "      <td>NaN</td>\n",
       "      <td>NaN</td>\n",
       "      <td>NaN</td>\n",
       "      <td>NaN</td>\n",
       "    </tr>\n",
       "    <tr>\n",
       "      <th>506724</th>\n",
       "      <td>Total amount funded in policy code 1: 1741781700</td>\n",
       "      <td>NaN</td>\n",
       "      <td>NaN</td>\n",
       "      <td>NaN</td>\n",
       "      <td>NaN</td>\n",
       "      <td>NaN</td>\n",
       "      <td>NaN</td>\n",
       "      <td>NaN</td>\n",
       "      <td>NaN</td>\n",
       "      <td>NaN</td>\n",
       "      <td>...</td>\n",
       "      <td>NaN</td>\n",
       "      <td>NaN</td>\n",
       "      <td>NaN</td>\n",
       "      <td>NaN</td>\n",
       "      <td>NaN</td>\n",
       "      <td>NaN</td>\n",
       "      <td>NaN</td>\n",
       "      <td>NaN</td>\n",
       "      <td>NaN</td>\n",
       "      <td>NaN</td>\n",
       "    </tr>\n",
       "  </tbody>\n",
       "</table>\n",
       "<p>8 rows × 152 columns</p>\n",
       "</div>"
      ],
      "text/plain": [
       "                                                      id  member_id  \\\n",
       "54756   Total amount funded in policy code 1: 1791201400        NaN   \n",
       "260738  Total amount funded in policy code 1: 1443412975        NaN   \n",
       "275181  Total amount funded in policy code 1: 1538432075        NaN   \n",
       "339248   Total amount funded in policy code 2: 564202131        NaN   \n",
       "357827   Total amount funded in policy code 2: 511988838        NaN   \n",
       "431988  Total amount funded in policy code 1: 2063142975        NaN   \n",
       "502875  Total amount funded in policy code 1: 6417608175        NaN   \n",
       "506724  Total amount funded in policy code 1: 1741781700        NaN   \n",
       "\n",
       "        loan_amnt  funded_amnt  funded_amnt_inv term  int_rate  installment  \\\n",
       "54756         NaN          NaN              NaN  NaN       NaN          NaN   \n",
       "260738        NaN          NaN              NaN  NaN       NaN          NaN   \n",
       "275181        NaN          NaN              NaN  NaN       NaN          NaN   \n",
       "339248        NaN          NaN              NaN  NaN       NaN          NaN   \n",
       "357827        NaN          NaN              NaN  NaN       NaN          NaN   \n",
       "431988        NaN          NaN              NaN  NaN       NaN          NaN   \n",
       "502875        NaN          NaN              NaN  NaN       NaN          NaN   \n",
       "506724        NaN          NaN              NaN  NaN       NaN          NaN   \n",
       "\n",
       "       grade sub_grade  ... settlement_status settlement_date  \\\n",
       "54756    NaN       NaN  ...               NaN             NaN   \n",
       "260738   NaN       NaN  ...               NaN             NaN   \n",
       "275181   NaN       NaN  ...               NaN             NaN   \n",
       "339248   NaN       NaN  ...               NaN             NaN   \n",
       "357827   NaN       NaN  ...               NaN             NaN   \n",
       "431988   NaN       NaN  ...               NaN             NaN   \n",
       "502875   NaN       NaN  ...               NaN             NaN   \n",
       "506724   NaN       NaN  ...               NaN             NaN   \n",
       "\n",
       "       settlement_amount  settlement_percentage settlement_term  \\\n",
       "54756                NaN                    NaN             NaN   \n",
       "260738               NaN                    NaN             NaN   \n",
       "275181               NaN                    NaN             NaN   \n",
       "339248               NaN                    NaN             NaN   \n",
       "357827               NaN                    NaN             NaN   \n",
       "431988               NaN                    NaN             NaN   \n",
       "502875               NaN                    NaN             NaN   \n",
       "506724               NaN                    NaN             NaN   \n",
       "\n",
       "       fico_range_low fico_range_high last_fico_range_high  \\\n",
       "54756             NaN             NaN                  NaN   \n",
       "260738            NaN             NaN                  NaN   \n",
       "275181            NaN             NaN                  NaN   \n",
       "339248            NaN             NaN                  NaN   \n",
       "357827            NaN             NaN                  NaN   \n",
       "431988            NaN             NaN                  NaN   \n",
       "502875            NaN             NaN                  NaN   \n",
       "506724            NaN             NaN                  NaN   \n",
       "\n",
       "       last_fico_range_low fico_average_latest  \n",
       "54756                  NaN                 NaN  \n",
       "260738                 NaN                 NaN  \n",
       "275181                 NaN                 NaN  \n",
       "339248                 NaN                 NaN  \n",
       "357827                 NaN                 NaN  \n",
       "431988                 NaN                 NaN  \n",
       "502875                 NaN                 NaN  \n",
       "506724                 NaN                 NaN  \n",
       "\n",
       "[8 rows x 152 columns]"
      ]
     },
     "execution_count": 46,
     "metadata": {},
     "output_type": "execute_result"
    }
   ],
   "source": [
    "mask = source_model_raw_data['id'].str.contains('policy', case=False, na=False)\n",
    "source_model_raw_data[mask]"
   ]
  },
  {
   "cell_type": "code",
   "execution_count": 37,
   "id": "163a4381-48a9-40d9-93e2-32e3a91550a8",
   "metadata": {},
   "outputs": [],
   "source": [
    "#Last Observation Carried Forward (LOCF) Method\n",
    "# Set the value of \"fico_average_latest\" to the mean value of \"fico_range_low\" and \"fico_range_high\"; if both \"last_fico_range_low\" and \"last_fico_range_high\" values are null \"NaN\"\n",
    "source_model_raw_data['fico_average_latest'] = np.where((source_model_raw_data['last_fico_range_low'] == \"\") & (source_model_raw_data['last_fico_range_high'] == \"\"), (source_model_raw_data['fico_range_low'] + source_model_raw_data['fico_range_high'])/2, source_model_raw_data['fico_average_latest'])\n",
    "\n"
   ]
  },
  {
   "cell_type": "code",
   "execution_count": 38,
   "id": "712efc61-e49f-4f40-9590-d1a3e87fbeca",
   "metadata": {},
   "outputs": [
    {
     "data": {
      "text/plain": [
       "last_fico_range_low     8\n",
       "last_fico_range_high    8\n",
       "fico_average_latest     8\n",
       "dtype: int64"
      ]
     },
     "execution_count": 38,
     "metadata": {},
     "output_type": "execute_result"
    }
   ],
   "source": [
    "source_model_raw_data[['last_fico_range_low', 'last_fico_range_high', 'fico_average_latest']].isnull().sum()"
   ]
  },
  {
   "cell_type": "code",
   "execution_count": null,
   "id": "090bd585-51e7-4bb7-83a8-16a5e8ac9999",
   "metadata": {},
   "outputs": [],
   "source": [
    "# Querying and verifying the list of rows with \"fico_average_latest\" score values less than the expected/actual minimum score of 300\n",
    "\n",
    "source_model_raw_data.query(\"fico_average_latest < 300\")"
   ]
  },
  {
   "cell_type": "code",
   "execution_count": null,
   "id": "ca2c34a8-ca8d-49e1-a824-06c8e9da12bc",
   "metadata": {},
   "outputs": [],
   "source": [
    "# Querying and verifying the list of rows with \"fico_average_latest\" score values greater than the expected/actual maximum score of 850\n",
    "\n",
    "source_model_raw_data.query(\"fico_average_latest > 850\")"
   ]
  },
  {
   "cell_type": "code",
   "execution_count": null,
   "id": "822c52bb-a15d-4ef2-8e6f-1a8f038e6349",
   "metadata": {},
   "outputs": [],
   "source": [
    "# Round-off the \"fico_average_latest\" column value to zero decimal places to represent it as a fico score\n",
    "\n",
    "source_model_raw_data.style.format({\n",
    "    'fico_average_latest': '{:,.0f}'.format\n",
    "})\n",
    "\n",
    "print(\"Execution Completed\")"
   ]
  },
  {
   "cell_type": "code",
   "execution_count": null,
   "id": "68800c6f-f729-4eea-8c3e-f5fd2dfbd672",
   "metadata": {},
   "outputs": [],
   "source": [
    "source_model_raw_data.head()"
   ]
  },
  {
   "cell_type": "code",
   "execution_count": null,
   "id": "213144d3-8f27-4fee-bb29-5703d8452cc0",
   "metadata": {},
   "outputs": [],
   "source": [
    "source_model_raw_data.tail()"
   ]
  },
  {
   "cell_type": "markdown",
   "id": "6fcf9786-380a-4734-87ea-977ba197db62",
   "metadata": {},
   "source": [
    "### Creating a new Target Variable Column named \"fico_score_status\""
   ]
  },
  {
   "cell_type": "markdown",
   "id": "9e97312f-f091-4999-87c4-8c1a86becf8d",
   "metadata": {},
   "source": [
    "#### FICO Scores between 300 to 669 ----> Represents Good- ------> 0\n",
    "#### FICO Scores between 670 to 850 ----> Represents Good+ ------> 1"
   ]
  },
  {
   "cell_type": "code",
   "execution_count": null,
   "id": "a57b6113-ddbf-4506-8e0f-d092654eae1e",
   "metadata": {},
   "outputs": [],
   "source": [
    "credit_data['fico_score_status_good-_good+'] = np.where(credit_data['fico_average_latest']<=669, \"Good-\", \"Good+\")\n",
    "\n",
    "print(\"Execution Completed\")"
   ]
  },
  {
   "cell_type": "code",
   "execution_count": null,
   "id": "0987f8ab-a5a0-489d-8bb1-4f98dfbeb04f",
   "metadata": {},
   "outputs": [],
   "source": [
    "credit_data.head()"
   ]
  },
  {
   "cell_type": "code",
   "execution_count": null,
   "id": "8c630836-ad84-4090-9c6d-ec18d797986e",
   "metadata": {},
   "outputs": [],
   "source": [
    "credit_data['fico_score_status'] = np.where(credit_data['fico_score_status_good-_good+'] == \"Good-\", 0, 1)\n",
    "\n",
    "print(\"Execution Completed\")"
   ]
  },
  {
   "cell_type": "code",
   "execution_count": null,
   "id": "519c81d4-5ce9-4202-8677-2e8ae5ace3a6",
   "metadata": {},
   "outputs": [],
   "source": [
    "credit_data.shape"
   ]
  },
  {
   "cell_type": "code",
   "execution_count": null,
   "id": "c951cb3c-e538-4515-bb01-4501bf34e6af",
   "metadata": {},
   "outputs": [],
   "source": [
    "credit_data.head()"
   ]
  },
  {
   "cell_type": "code",
   "execution_count": null,
   "id": "54e669f8-f192-4fa6-8e63-586e3286873f",
   "metadata": {},
   "outputs": [],
   "source": [
    "credit_data.tail()"
   ]
  },
  {
   "cell_type": "markdown",
   "id": "4d212d99-730f-463c-9f13-cf9ac20bc643",
   "metadata": {},
   "source": [
    "## Pre-Processing of the Target (Dependent) Variable 2 - Loan Status (Loan Default)"
   ]
  },
  {
   "cell_type": "markdown",
   "id": "83235387-40d2-4b6e-bd96-ee67f2a18875",
   "metadata": {},
   "source": [
    "#### Loan Non-Default -----> Good -----> 0\n",
    "#### Loan Default -----> Bad -----> 1"
   ]
  },
  {
   "cell_type": "code",
   "execution_count": null,
   "id": "853381b8-0740-4981-b682-dc43012748f6",
   "metadata": {},
   "outputs": [],
   "source": [
    "# Display the unique values of the \"loan_status\" column\n",
    "\n",
    "credit_data['loan_status'].unique()"
   ]
  },
  {
   "cell_type": "code",
   "execution_count": null,
   "id": "e1ddca95-86cf-4827-a3ec-8593361d588d",
   "metadata": {},
   "outputs": [],
   "source": [
    "# Checking the count of each of the \"loan_status\" values in the dataset\n",
    "\n",
    "credit_data['loan_status'].value_counts()"
   ]
  },
  {
   "cell_type": "code",
   "execution_count": null,
   "id": "a5213d8f-5cac-4296-8251-532f21ead049",
   "metadata": {},
   "outputs": [],
   "source": [
    "credit_data['loan_status'].count()"
   ]
  },
  {
   "cell_type": "code",
   "execution_count": null,
   "id": "0b655dde-9cf9-40f2-b171-45d8fcad8fe3",
   "metadata": {},
   "outputs": [],
   "source": [
    "# Divide the number of observations for each unique value of a variable by the total number of observations.\n",
    "# This will generate the proportion of observations for each unique value of a variable.\n",
    "\n",
    "\n",
    "credit_data['loan_status'].value_counts() / credit_data['loan_status'].count()\n"
   ]
  },
  {
   "cell_type": "code",
   "execution_count": null,
   "id": "04e1a636-ac68-4068-84e1-52e4628f475c",
   "metadata": {},
   "outputs": [],
   "source": [
    "# If we further multiply this proportion value by 100; then we will get the percentage of observations for each unique value of the \"loan_status\" variable\n",
    "\n",
    "(credit_data['loan_status'].value_counts() / credit_data['loan_status'].count())*100"
   ]
  },
  {
   "cell_type": "code",
   "execution_count": null,
   "id": "bec51b18-f38e-4c4c-85a3-030d74c16eb2",
   "metadata": {},
   "outputs": [],
   "source": [
    "# Checking the count of \"NaN\" values (missing values) in the \"loan_status\" column\n",
    "\n",
    "credit_data['loan_status'].isna().sum()"
   ]
  },
  {
   "cell_type": "markdown",
   "id": "5bece830-ee86-467a-937c-9948ee0a1fd1",
   "metadata": {},
   "source": [
    "### Fixing the Missing Values in the \"loan_status\" column"
   ]
  },
  {
   "cell_type": "code",
   "execution_count": null,
   "id": "e2ad71f6-9de1-46fa-a80d-4219b9715700",
   "metadata": {},
   "outputs": [],
   "source": [
    "credit_data.query(\"loan_status == ''\")"
   ]
  },
  {
   "cell_type": "code",
   "execution_count": null,
   "id": "b7ea3dab-f1de-4983-8916-1bcebffd1b2b",
   "metadata": {},
   "outputs": [],
   "source": [
    "# Creating a new variable named \"loan_good_bad_status\" basd on the values of the \"loan_status\" column\n",
    "\n",
    "credit_data['loan_good_bad_status'] = np.where(credit_data['loan_status'].isin(['Charged Off', 'Late (31-120 days)', 'Default']), 1, 0)"
   ]
  },
  {
   "cell_type": "code",
   "execution_count": null,
   "id": "7a3d1f88-645c-4432-9a49-cb79483dd80c",
   "metadata": {},
   "outputs": [],
   "source": [
    "credit_data[['loan_status', 'loan_good_bad_status']].sample(n=10)"
   ]
  },
  {
   "cell_type": "code",
   "execution_count": null,
   "id": "0de9f491-3cbe-48e4-8f31-cca8874d6ab7",
   "metadata": {},
   "outputs": [],
   "source": [
    "credit_data['loan_good_bad_status'].count()"
   ]
  },
  {
   "cell_type": "markdown",
   "id": "bb7dadf2-8a74-455d-8769-058dea1bbe79",
   "metadata": {},
   "source": [
    "## Pre-processing of String (Object) Data Type Variable"
   ]
  },
  {
   "cell_type": "markdown",
   "id": "3869e3f3-d696-4015-8fa9-fb45bb409f09",
   "metadata": {},
   "source": [
    "## Date Type Attribute \"earliest_cr_line\""
   ]
  },
  {
   "cell_type": "code",
   "execution_count": null,
   "id": "3f256e24-c872-41b8-9327-39c447d75be1",
   "metadata": {},
   "outputs": [],
   "source": [
    "# Display the \"earliest_cr_line\" column values\n",
    "\n",
    "credit_data['earliest_cr_line']"
   ]
  },
  {
   "cell_type": "code",
   "execution_count": null,
   "id": "b4f9e923-4dc2-442a-b679-3987bb252906",
   "metadata": {},
   "outputs": [],
   "source": [
    "# Extract the date and the time from the Date Type String Variable \"earliest_cr_line\" in to a new pandas dataframe column\n",
    "\n",
    "credit_data['earliest_cr_line_date'] = pd.to_datetime(credit_data['earliest_cr_line'], format = '%b-%y')"
   ]
  },
  {
   "cell_type": "code",
   "execution_count": null,
   "id": "ea84b08d-3b9a-43fb-83c5-2e77bce491be",
   "metadata": {},
   "outputs": [],
   "source": [
    "# Verifying the date and time created in the new column \"earliest_cr_line_date\" for the first 5 data instances\n",
    "\n",
    "credit_data['earliest_cr_line_date'][:5]"
   ]
  },
  {
   "cell_type": "code",
   "execution_count": null,
   "id": "c87991de-57cb-490f-aeaa-da74b150e742",
   "metadata": {},
   "outputs": [],
   "source": [
    "# Converting the date an time into number of days format; by calculating the difference between the given date and current date as 1st September 2021\n",
    "\n",
    "pd.to_datetime('2021-09-01') - credit_data['earliest_cr_line_date']"
   ]
  },
  {
   "cell_type": "code",
   "execution_count": null,
   "id": "29325095-5901-4558-b2ca-3c756fcd4c45",
   "metadata": {},
   "outputs": [],
   "source": [
    "# Calculating the difference between the given date and current date as 1st September 2021 in months format, then convert it into numeric format and round it\n",
    "# Saving the results to a new column named \"months_since_earliest_cr_line\"\n",
    "\n",
    "credit_data['months_since_earliest_cr_line'] = round(pd.to_numeric((pd.to_datetime('2021-09-01') - credit_data['earliest_cr_line_date']) / np.timedelta64(1, 'M')))"
   ]
  },
  {
   "cell_type": "code",
   "execution_count": null,
   "id": "9e4a82dd-868f-4ac3-8aba-df2ed898c578",
   "metadata": {},
   "outputs": [],
   "source": [
    "# Verifying the first 5 data instances of the new column \"months_since_earliest_cr_line\"\n",
    "\n",
    "credit_data['months_since_earliest_cr_line'][:5]"
   ]
  },
  {
   "cell_type": "code",
   "execution_count": null,
   "id": "866ce19d-6ff8-422e-a568-b4fe8ece9a02",
   "metadata": {},
   "outputs": [],
   "source": [
    "# Displaying the descriptive statistics of the values in the column \"months_since_earliest_cr_line\"\n",
    "\n",
    "credit_data['months_since_earliest_cr_line'].describe()"
   ]
  },
  {
   "cell_type": "code",
   "execution_count": null,
   "id": "daa971a1-6b04-400c-84bf-1fd2e16f1026",
   "metadata": {},
   "outputs": [],
   "source": [
    "# Displaying only the 3 columns w.r.t \"earliest_cr_line\" attribute and displaying only the rows which has negative values calculated for the data differences\n",
    "\n",
    "credit_data.loc[: , ['earliest_cr_line', 'earliest_cr_line_date', 'months_since_earliest_cr_line']][credit_data['months_since_earliest_cr_line'] < 0]"
   ]
  },
  {
   "cell_type": "code",
   "execution_count": null,
   "id": "ef8677d6-93cb-4c8d-8001-68f7049bdcfa",
   "metadata": {},
   "outputs": [],
   "source": [
    "# We will set the rows with the negative values to the maximum value\n",
    "\n",
    "credit_data['months_since_earliest_cr_line'][credit_data['months_since_earliest_cr_line'] < 0] = credit_data['months_since_earliest_cr_line'].max()"
   ]
  },
  {
   "cell_type": "code",
   "execution_count": null,
   "id": "b90ad5e0-a220-486f-8642-aa7fec14cf7f",
   "metadata": {},
   "outputs": [],
   "source": [
    "# Displaying only the 3 columns w.r.t \"earliest_cr_line\" attribute and displaying only the rows which has negative values after fixing it\n",
    "\n",
    "credit_data.loc[: , ['earliest_cr_line', 'earliest_cr_line_date', 'months_since_earliest_cr_line']][credit_data['months_since_earliest_cr_line'] < 0]"
   ]
  },
  {
   "cell_type": "code",
   "execution_count": null,
   "id": "ef03e3f8-83e9-47f6-8281-52852e9b3ccf",
   "metadata": {},
   "outputs": [],
   "source": [
    "# Displaying the minimum value of the \"months_since_earliest_cr_line\" column \n",
    "\n",
    "min(credit_data['months_since_earliest_cr_line'])"
   ]
  },
  {
   "cell_type": "code",
   "execution_count": null,
   "id": "19124d4b-9ed3-4072-91e1-179de3bdfb17",
   "metadata": {},
   "outputs": [],
   "source": [
    "# Displaying the maximum value of the \"months_since_earliest_cr_line\" column \n",
    "\n",
    "max(credit_data['months_since_earliest_cr_line'])"
   ]
  },
  {
   "cell_type": "code",
   "execution_count": null,
   "id": "a658c558-ccca-446b-8080-f872d808efa5",
   "metadata": {},
   "outputs": [],
   "source": [
    "# Displaying all the rows of data and only the 3 columns w.r.t \"earliest_cr_line\" attribute\n",
    "\n",
    "credit_data.loc[: , ['earliest_cr_line', 'earliest_cr_line_date', 'months_since_earliest_cr_line']]"
   ]
  },
  {
   "cell_type": "code",
   "execution_count": null,
   "id": "e937fcee-e03d-4287-b871-9c50d398b5bc",
   "metadata": {},
   "outputs": [],
   "source": [
    "# Re-verifying the descriptive statistics of the values in the column \"months_since_earliest_cr_line\"; to ensure that there are no negative values\n",
    "\n",
    "credit_data['months_since_earliest_cr_line'].describe()"
   ]
  },
  {
   "cell_type": "code",
   "execution_count": null,
   "id": "4aeca2e4-32f3-4162-b644-55624a6113eb",
   "metadata": {},
   "outputs": [],
   "source": [
    "# Verifying the data type of the \"months_since_earliest_cr_line\" column\n",
    "\n",
    "credit_data['months_since_earliest_cr_line'].dtype"
   ]
  },
  {
   "cell_type": "code",
   "execution_count": null,
   "id": "41d4e780-942f-48e5-b008-1fe0ff7eeddb",
   "metadata": {},
   "outputs": [],
   "source": [
    "# Checking for any missing values in the \"months_since_earliest_cr_line\" column - Option 1\n",
    "\n",
    "credit_data.query(\"months_since_earliest_cr_line == ''\")"
   ]
  },
  {
   "cell_type": "code",
   "execution_count": null,
   "id": "0b229fea-0bb8-4f2e-a752-8fae9c82b7f4",
   "metadata": {},
   "outputs": [],
   "source": [
    "# Checking for any missing values in the \"months_since_earliest_cr_line\" column - Option 2\n",
    "\n",
    "credit_data.query(\"months_since_earliest_cr_line < 73.0\")"
   ]
  },
  {
   "cell_type": "code",
   "execution_count": null,
   "id": "f2cfccc9-4ed3-4de9-b107-773b88e606c3",
   "metadata": {},
   "outputs": [],
   "source": [
    "# Displaying the entire dataset with all the columns\n",
    "\n",
    "credit_data"
   ]
  },
  {
   "cell_type": "markdown",
   "id": "368e88a0-93ef-479f-a562-1581518a4485",
   "metadata": {},
   "source": [
    "## Exporting an extract of the Credit Data with pre-processed target columns into a csv file"
   ]
  },
  {
   "cell_type": "code",
   "execution_count": null,
   "id": "587b4809-257f-4eaa-8a2f-bbc69b5e9c61",
   "metadata": {},
   "outputs": [],
   "source": [
    "credit_data.to_csv(\"/Users/vidhyalakshmiparthasarathy/.CMVolumes/Google-Drive-pbvidhyauk5/QMUL_MSc_Project/Credit_Risk_Assessment/data/credit_risk_data_all.csv\")\n",
    "\n",
    "print(\"Data Export Completed\")"
   ]
  },
  {
   "cell_type": "code",
   "execution_count": null,
   "id": "d39640f8-39f8-48b0-ae32-2e27294869a0",
   "metadata": {},
   "outputs": [],
   "source": []
  }
 ],
 "metadata": {
  "kernelspec": {
   "display_name": "Python 3",
   "language": "python",
   "name": "python3"
  },
  "language_info": {
   "codemirror_mode": {
    "name": "ipython",
    "version": 3
   },
   "file_extension": ".py",
   "mimetype": "text/x-python",
   "name": "python",
   "nbconvert_exporter": "python",
   "pygments_lexer": "ipython3",
   "version": "3.8.3"
  }
 },
 "nbformat": 4,
 "nbformat_minor": 5
}
