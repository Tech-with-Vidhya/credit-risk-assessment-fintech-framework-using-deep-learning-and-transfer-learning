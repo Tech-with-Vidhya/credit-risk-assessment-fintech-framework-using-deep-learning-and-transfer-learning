{
 "cells": [
  {
   "cell_type": "markdown",
   "id": "8adba84e-628d-41a7-bcbf-dc407ba52814",
   "metadata": {},
   "source": [
    "# TARGET MODEL 1 - REGRESSION OF \"CREDIT_SCORE\" - CREDIT SCORE CARD"
   ]
  },
  {
   "cell_type": "markdown",
   "id": "a7f9458f-0f1e-4e22-ba31-76f3cfca71a4",
   "metadata": {},
   "source": [
    "# I. DATA EXPLORATION AND PRE-REQUISITES PROCESSING"
   ]
  },
  {
   "cell_type": "markdown",
   "id": "d31ded51-c5bb-4afb-9a7b-39cf15a1a294",
   "metadata": {},
   "source": [
    "## Importing Python Libraries"
   ]
  },
  {
   "cell_type": "code",
   "execution_count": null,
   "id": "67818a0a-ae30-4c04-a2ac-9f01380bedac",
   "metadata": {},
   "outputs": [],
   "source": [
    "import tensorflow as tf\n",
    "from tensorflow import keras\n",
    "import matplotlib.pyplot as plt\n",
    "%matplotlib inline\n",
    "import numpy as np\n",
    "import pandas as pd\n",
    "\n",
    "import seaborn as sns\n",
    "\n",
    "import os\n",
    "\n",
    "print(\"Import Completed\")"
   ]
  },
  {
   "cell_type": "markdown",
   "id": "eb5a4b81-a4df-4ded-9ab1-19bb2ae65a9b",
   "metadata": {},
   "source": [
    "## Importing the Input and Output Predictions Data Files of the Target Model 1 - Regression"
   ]
  },
  {
   "cell_type": "code",
   "execution_count": null,
   "id": "793420b5-4c8a-49ac-b056-164d4eaff201",
   "metadata": {},
   "outputs": [],
   "source": [
    "# Importing the Input Data File of the Target Model 1 - Regression\n",
    "\n",
    "tm_1_reg_X = pd.read_csv(\"/Users/vidhyalakshmiparthasarathy/.CMVolumes/Google-Drive-pbvidhyauk6/QMUL_MSc_Project/credit_risk_scoring_project/data/target_model_final_data/tm_validation_final_input_X.csv\")\n",
    "\n",
    "print(\"Data Import Completed\")"
   ]
  },
  {
   "cell_type": "code",
   "execution_count": null,
   "id": "0f373d34-e492-4e31-a4bc-94758988bacc",
   "metadata": {},
   "outputs": [],
   "source": [
    "# Importing the Output Predictions Data File of the Target Model 1 - Regression\n",
    "\n",
    "tm_1_reg_y = pd.read_csv(\"/Users/vidhyalakshmiparthasarathy/.CMVolumes/Google-Drive-pbvidhyauk6/QMUL_MSc_Project/credit_risk_scoring_project/output/tm_2_reg_predictions.csv\")\n",
    "\n",
    "print(\"Data Import Completed\")"
   ]
  },
  {
   "cell_type": "markdown",
   "id": "3647ec44-7d6d-414d-8901-40bc4b40365f",
   "metadata": {},
   "source": [
    "## Removing the First Index Column from the Input Dataframe"
   ]
  },
  {
   "cell_type": "code",
   "execution_count": null,
   "id": "84af3f41-504a-4a0d-9488-2004c989b1ca",
   "metadata": {},
   "outputs": [],
   "source": [
    "# Sets the pandas dataframe options to display all columns/ rows.\n",
    "\n",
    "pd.options.display.max_columns = None\n",
    "#pd.options.display.max_rows = None\n",
    "\n",
    "print(\"Execution Completed\")"
   ]
  },
  {
   "cell_type": "code",
   "execution_count": null,
   "id": "e6fa70c5-22c8-4895-9425-a781965706bb",
   "metadata": {},
   "outputs": [],
   "source": [
    "# Checking the size of the dataset\n",
    "\n",
    "tm_1_reg_X.shape"
   ]
  },
  {
   "cell_type": "code",
   "execution_count": null,
   "id": "f7f8267f-0e38-4183-9417-a29c81607bad",
   "metadata": {},
   "outputs": [],
   "source": [
    "# Checking the first 3 column names of the dataset\n",
    "\n",
    "tm_1_reg_X.columns[[0, 1, 2]]"
   ]
  },
  {
   "cell_type": "code",
   "execution_count": null,
   "id": "100e2812-80fd-4033-89f0-6bc505129b74",
   "metadata": {},
   "outputs": [],
   "source": [
    "# Removing the first index column from the dataset\n",
    "\n",
    "tm_1_reg_X.drop(tm_1_reg_X.columns[0], axis = 1, inplace = True)\n",
    "\n",
    "print(\"Execution Completed\")"
   ]
  },
  {
   "cell_type": "code",
   "execution_count": null,
   "id": "1debe04b-046a-4c9e-9f04-c7d34766dc4b",
   "metadata": {},
   "outputs": [],
   "source": [
    "# Re-checking the size of the dataset after removing the index column\n",
    "\n",
    "tm_1_reg_X.shape"
   ]
  },
  {
   "cell_type": "code",
   "execution_count": null,
   "id": "59b99bb3-d1be-473b-b63a-d568b75b8c9f",
   "metadata": {},
   "outputs": [],
   "source": [
    "# Displaying the first 5 data instances of the dataframe\n",
    "\n",
    "tm_1_reg_X.head()"
   ]
  },
  {
   "cell_type": "markdown",
   "id": "c0d00b57-4338-422a-bfb3-d13290b6b2e2",
   "metadata": {},
   "source": [
    "## Removing the First Index Column from the Output Predictions Dataframe"
   ]
  },
  {
   "cell_type": "code",
   "execution_count": null,
   "id": "56b32b85-cf13-4eba-81ef-ca63e46a3729",
   "metadata": {},
   "outputs": [],
   "source": [
    "# Sets the pandas dataframe options to display all columns/ rows.\n",
    "\n",
    "pd.options.display.max_columns = None\n",
    "#pd.options.display.max_rows = None\n",
    "\n",
    "print(\"Execution Completed\")"
   ]
  },
  {
   "cell_type": "code",
   "execution_count": null,
   "id": "045b803b-a5cf-4069-bfcd-10e2bca8a507",
   "metadata": {},
   "outputs": [],
   "source": [
    "# Checking the size of the dataset\n",
    "\n",
    "tm_1_reg_y.shape"
   ]
  },
  {
   "cell_type": "code",
   "execution_count": null,
   "id": "fe4c6e6c-7538-481a-a068-2cd3f455e3bc",
   "metadata": {},
   "outputs": [],
   "source": [
    "# Checking the first 3 column names of the dataset\n",
    "\n",
    "tm_1_reg_y.columns[[0, 1, 2]]"
   ]
  },
  {
   "cell_type": "code",
   "execution_count": null,
   "id": "49cf13a8-79e2-477f-9991-3142b6085c57",
   "metadata": {},
   "outputs": [],
   "source": [
    "# Removing the first index column and the Actual Credit Score Columns from the dataset\n",
    "\n",
    "tm_1_reg_y.drop(tm_1_reg_y.columns[[0, 1]], axis = 1, inplace = True)\n",
    "\n",
    "print(\"Execution Completed\")"
   ]
  },
  {
   "cell_type": "code",
   "execution_count": null,
   "id": "434f86d6-29c1-424b-8dbb-5db9afb7d238",
   "metadata": {},
   "outputs": [],
   "source": [
    "# Re-checking the size of the dataset after removing the index column\n",
    "\n",
    "tm_1_reg_y.shape"
   ]
  },
  {
   "cell_type": "code",
   "execution_count": null,
   "id": "c2224921-2257-4f80-99f9-3326ba4ef39d",
   "metadata": {},
   "outputs": [],
   "source": [
    "# Displaying the first 5 data instances of the dataframe\n",
    "\n",
    "tm_1_reg_y.head()"
   ]
  },
  {
   "cell_type": "markdown",
   "id": "ae79abf4-1506-4115-a629-112c5f8deda5",
   "metadata": {},
   "source": [
    "## Converting Input DataFrame in to a Numpy Array"
   ]
  },
  {
   "cell_type": "code",
   "execution_count": null,
   "id": "a3929afb-d4d8-4e22-96d4-2e30e486297b",
   "metadata": {},
   "outputs": [],
   "source": [
    "# Converting Input Dataframe into a Numpy Array\n",
    "\n",
    "tm_1_reg_array_X = tm_1_reg_X.to_numpy()\n",
    "\n",
    "print(\"Execution Completed\")"
   ]
  },
  {
   "cell_type": "code",
   "execution_count": null,
   "id": "6cca488b-6000-4d83-81ee-416e3face69d",
   "metadata": {},
   "outputs": [],
   "source": [
    "# Verifying the Data Type of the Input Numpy Array\n",
    "\n",
    "type(tm_1_reg_array_X)"
   ]
  },
  {
   "cell_type": "code",
   "execution_count": null,
   "id": "bfc18dea-dec7-4c23-8d65-ffb1a0c3ee2a",
   "metadata": {},
   "outputs": [],
   "source": [
    "# Verifying the Dimension of the Input Numpy Array\n",
    "\n",
    "tm_1_reg_array_X.shape"
   ]
  },
  {
   "cell_type": "code",
   "execution_count": null,
   "id": "326e9a6d-10dc-4625-958b-6d55fd89a7fe",
   "metadata": {},
   "outputs": [],
   "source": [
    "# Displaying the first 10 Data Instances in the Input Numpy Array\n",
    "\n",
    "tm_1_reg_array_X[:10]"
   ]
  },
  {
   "cell_type": "markdown",
   "id": "14e592ed-c21e-49f1-ab36-ab35584ef8cc",
   "metadata": {},
   "source": [
    "## Converting Output Predictions DataFrame in to a Numpy Array"
   ]
  },
  {
   "cell_type": "code",
   "execution_count": null,
   "id": "58ae0371-8ff1-4bfa-8a29-3f02b826082d",
   "metadata": {},
   "outputs": [],
   "source": [
    "# Converting Input Dataframe into a Numpy Array\n",
    "\n",
    "tm_1_reg_array_y = tm_1_reg_y.to_numpy()\n",
    "\n",
    "print(\"Execution Completed\")"
   ]
  },
  {
   "cell_type": "code",
   "execution_count": null,
   "id": "13f5f99a-71ee-4a21-9128-336a6eca5840",
   "metadata": {},
   "outputs": [],
   "source": [
    "# Verifying the Data Type of the Input Numpy Array\n",
    "\n",
    "type(tm_1_reg_array_y)"
   ]
  },
  {
   "cell_type": "code",
   "execution_count": null,
   "id": "81489d7e-2cbd-4aa4-97b8-8901cd56af41",
   "metadata": {},
   "outputs": [],
   "source": [
    "# Verifying the Dimension of the Input Numpy Array\n",
    "\n",
    "tm_1_reg_array_y.shape"
   ]
  },
  {
   "cell_type": "code",
   "execution_count": null,
   "id": "e37314f9-00e9-4122-a396-d76a3cb40b2b",
   "metadata": {},
   "outputs": [],
   "source": [
    "# Displaying the first 10 Data Instances in the Input Numpy Array\n",
    "\n",
    "tm_1_reg_array_y[:10]"
   ]
  },
  {
   "cell_type": "markdown",
   "id": "62dbd715-ccab-404d-9292-f52519bfaf8b",
   "metadata": {},
   "source": [
    "# II. Deriving the Regression Co-efficients"
   ]
  },
  {
   "cell_type": "markdown",
   "id": "3a2a6e41-53a5-40c8-9218-ccd25a5d3fc1",
   "metadata": {},
   "source": [
    "## Generating the Transpose of Input Numpy Array"
   ]
  },
  {
   "cell_type": "code",
   "execution_count": null,
   "id": "09261fc6-f8b6-450c-b1c0-8b451d1c6f8c",
   "metadata": {},
   "outputs": [],
   "source": [
    "# Generating the Transpose of Input Numpy Array\n",
    "\n",
    "x = tm_1_reg_array_X.transpose()\n",
    "\n",
    "print(\"Execution Completed\")"
   ]
  },
  {
   "cell_type": "code",
   "execution_count": null,
   "id": "4e0ca6af-0869-4f1c-8603-b2ddba0d2849",
   "metadata": {},
   "outputs": [],
   "source": [
    "# Checking the Size of the Transposed Input Numpy Array\n",
    "\n",
    "x.shape"
   ]
  },
  {
   "cell_type": "code",
   "execution_count": null,
   "id": "f4513e4d-a45e-4c27-9c0e-55466898c18c",
   "metadata": {},
   "outputs": [],
   "source": [
    "# Displaying the First 5 Data Instances of the Transposed Input Numpy Array\n",
    "\n",
    "x[:5]"
   ]
  },
  {
   "cell_type": "markdown",
   "id": "500cfdc1-2c79-4dea-b538-a6a7ba8e3780",
   "metadata": {},
   "source": [
    "## Generating a Copy of the Output Predictions Numpy Array"
   ]
  },
  {
   "cell_type": "code",
   "execution_count": null,
   "id": "043dc840-11b6-49d9-a45b-a0572c9a1b13",
   "metadata": {},
   "outputs": [],
   "source": [
    "# Generating a copy of the Output Predictions Numpy Array\n",
    "\n",
    "y = np.copy(tm_1_reg_array_y)\n",
    "\n",
    "print(\"Execution Completed\")"
   ]
  },
  {
   "cell_type": "code",
   "execution_count": null,
   "id": "beb38110-2906-42d0-b8c1-3acf8f210d56",
   "metadata": {},
   "outputs": [],
   "source": [
    "# Checking the Size of the Transposed Output Predictions Numpy Array\n",
    "\n",
    "y.shape"
   ]
  },
  {
   "cell_type": "code",
   "execution_count": null,
   "id": "8dcca913-96ac-4f1e-810c-bd5285e16cbd",
   "metadata": {},
   "outputs": [],
   "source": [
    "# Displaying the First 5 Data Instances of the Transposed Output Predictions Numpy Array\n",
    "\n",
    "y[:5]"
   ]
  },
  {
   "cell_type": "markdown",
   "id": "3dc27169-d217-4a2f-8961-710f3e2920d9",
   "metadata": {},
   "source": [
    "## Visualising the Input Data Relationships for Sample Set of Inputs"
   ]
  },
  {
   "cell_type": "code",
   "execution_count": null,
   "id": "6b2d5a18-c6d9-4eaf-bbe9-6622fd08acd1",
   "metadata": {},
   "outputs": [],
   "source": [
    "sns.pairplot(tm_1_reg_X[['pub_rec:0', 'pub_record:non_zero']] , diag_kind='kde')"
   ]
  },
  {
   "cell_type": "markdown",
   "id": "2ff2327e-e27e-40b4-b345-ecb1bcf2a6eb",
   "metadata": {},
   "source": [
    "## Creation of the Design Matrix X"
   ]
  },
  {
   "cell_type": "markdown",
   "id": "e91b6637-2335-4c24-af00-d29b8ece57d3",
   "metadata": {},
   "source": [
    "### We will be performin the below steps after generating the Design Matrix X.\n",
    "\n",
    "### Step 1:  $X^TX$\n",
    "\n",
    "### Step 2: $(X^TX)^{-1}$\n",
    "\n",
    "### Step 3: $(X^TX)^{-1}X^T$"
   ]
  },
  {
   "cell_type": "code",
   "execution_count": null,
   "id": "71dcf266-2ff0-4a76-b635-35d367af0d5d",
   "metadata": {},
   "outputs": [],
   "source": [
    "# Generating the Regression Co-efficients (Weights)\n",
    "\n",
    "'''\n",
    "X = np.column_stack([np.ones(x.shape), x, x**2, x**3, x**4, x**5, x**6, x**7, \n",
    "                     x**8, x**9, x**10, x**11, x**12, x**13, x**14, x**15, x**16, \n",
    "                     x**4, x**4, x**4, x**4, x**4, x**4, x**4, x**4, x**4,\n",
    "                     x**17, x**18, x**4, x**4, x**4, x**4, x**4, x**4, x**4, \n",
    "                     x**4, x**4, x**4, x**4, x**4, x**4, x**4, x**4, x**4,\n",
    "                     x**4, x**4, x**4, x**4, x**4, x**4, x**4, x**4, x**4, \n",
    "                     x**4, x**4, x**4, x**4, x**4, x**4, x**4, x**4, x**4, \n",
    "                     x**4, x**4, x**4, x**4, x**4, x**4, x**4, x**4, x**4, \n",
    "                     x**4, x**4, x**4, x**4, x**4, x**4, x**4, x**4, x**4,\n",
    "                     x**4, x**4, x**4, x**4, x**4, x**4, x**4, x**4, x**4, \n",
    "                     x**4, x**4, x**4, x**4, x**4, x**4, x**4, x**4, x**4, \n",
    "                     x**4, x**4, x**4, x**4, x**4, x**4, x**4, x**4, x**4, \n",
    "                     x**4, x**4, x**4, x**4, x**4, x**4, x**4, x**4, x**4, \n",
    "                     x**4, x**4, x**4, x**4, x**4, x**4, x**4, x**4, x**4, \n",
    "                     x**4, x**4, x**4, x**4, x**4, x**4, x**4, x**4, x**4, \n",
    "                     x**4, x**4, x**4, x**4, x**4, x**4, x**4, x**4, x**4, \n",
    "                     x**4, x**4, x**4, x**4, x**4, x**4, x**4, x**4, x**4, \n",
    "                     x**4, x**4, x**4, x**4, x**4, x**4, x**4, x**4, x**4, \n",
    "                     x**4, x**4, x**4, x**4, x**4, x**4, x**4, x**4, x**4\n",
    "                    ])   \n",
    "'''\n",
    "\n",
    "X = np.column_stack([np.ones(x.shape), x])\n",
    "print(\"Design Matrix:\\n\", X)"
   ]
  },
  {
   "cell_type": "code",
   "execution_count": null,
   "id": "e539a17c-7868-467a-85e4-6d08a7350d15",
   "metadata": {},
   "outputs": [],
   "source": [
    "# Executing the Step-1 of Regression Co-efficients (Weights) Calculation\n",
    "\n",
    "XTX = np.dot(X.T, X)                  # Step 1\n",
    "\n",
    "print(\"Execution Completed\")"
   ]
  },
  {
   "cell_type": "code",
   "execution_count": null,
   "id": "9763c803-790b-42b8-89d5-c59859bd8465",
   "metadata": {},
   "outputs": [],
   "source": [
    "# Executing the Step-1 of Regression Co-efficients (Weights) Calculation\n",
    "\n",
    "XTX_inv = np.linalg.inv(XTX)          # Step 2\n",
    "\n",
    "print(\"Execution Completed\")"
   ]
  },
  {
   "cell_type": "code",
   "execution_count": null,
   "id": "2bef6449-e514-40a9-bbcd-a2e727d9e898",
   "metadata": {},
   "outputs": [],
   "source": [
    "# Executing the Step-1 of Regression Co-efficients (Weights) Calculation\n",
    "\n",
    "XTX_invXT = np.dot(XTX_inv, X.T)      # Step 3\n",
    "\n",
    "print(\"Execution Completed\")"
   ]
  },
  {
   "cell_type": "code",
   "execution_count": null,
   "id": "85b6822b-026c-4dee-8e06-49ce343f0ada",
   "metadata": {},
   "outputs": [],
   "source": [
    "# Calculating the Weights\n",
    "\n",
    "w = np.dot(XTX_invXT, y)\n",
    "print(\"Weights:\\n\", w)\n"
   ]
  },
  {
   "cell_type": "code",
   "execution_count": null,
   "id": "0aed1f88-3fbd-4961-8275-133c81b23470",
   "metadata": {},
   "outputs": [],
   "source": []
  },
  {
   "cell_type": "code",
   "execution_count": null,
   "id": "17013f17-fe3b-4d62-b4c4-04152bc8592f",
   "metadata": {},
   "outputs": [],
   "source": []
  },
  {
   "cell_type": "code",
   "execution_count": null,
   "id": "33fe2985-b4b1-447f-a450-d5ec12384c74",
   "metadata": {},
   "outputs": [],
   "source": []
  }
 ],
 "metadata": {
  "kernelspec": {
   "display_name": "Python 3",
   "language": "python",
   "name": "python3"
  },
  "language_info": {
   "codemirror_mode": {
    "name": "ipython",
    "version": 3
   },
   "file_extension": ".py",
   "mimetype": "text/x-python",
   "name": "python",
   "nbconvert_exporter": "python",
   "pygments_lexer": "ipython3",
   "version": "3.8.3"
  }
 },
 "nbformat": 4,
 "nbformat_minor": 5
}
