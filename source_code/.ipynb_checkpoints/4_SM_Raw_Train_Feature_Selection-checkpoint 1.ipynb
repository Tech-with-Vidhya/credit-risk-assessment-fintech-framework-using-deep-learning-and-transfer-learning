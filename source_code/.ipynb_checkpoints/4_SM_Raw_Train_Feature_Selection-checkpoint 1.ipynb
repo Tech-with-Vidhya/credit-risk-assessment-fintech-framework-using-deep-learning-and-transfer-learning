{
 "cells": [
  {
   "cell_type": "markdown",
   "id": "12b429d8-0f33-4a88-a8c4-2d311f04708c",
   "metadata": {},
   "source": [
    "# SOURCE MODEL (SM) RAW TRAINING DATA : FEATURE SELECTION¶"
   ]
  },
  {
   "cell_type": "markdown",
   "id": "019aa2f0-bc94-417a-afc9-dd26741dac09",
   "metadata": {},
   "source": [
    "## SOURCE MODEL (SM) - RAW TRAINING DATA WITH PRE-PROCESSED TARGET"
   ]
  },
  {
   "cell_type": "markdown",
   "id": "da40d5e4-53c3-4fa3-86c2-6788207a2c97",
   "metadata": {},
   "source": [
    "## Importing Python Libraries"
   ]
  },
  {
   "cell_type": "code",
   "execution_count": null,
   "id": "98e34f88-02bf-4c17-9590-5fe02a30fdaa",
   "metadata": {},
   "outputs": [],
   "source": [
    "import numpy as np\n",
    "import pandas as pd\n",
    "\n",
    "import matplotlib.pyplot as plt\n",
    "import seaborn as sns\n",
    "\n",
    "print(\"Import Completed\")"
   ]
  },
  {
   "cell_type": "markdown",
   "id": "06be78e3-1388-4307-adf3-d25f5236e76c",
   "metadata": {},
   "source": [
    "## Importing the Source Model (SM) Raw Training Data csv File"
   ]
  },
  {
   "cell_type": "code",
   "execution_count": null,
   "id": "ab0fbc04-7b5b-4e76-b70e-deeb2e41017b",
   "metadata": {},
   "outputs": [],
   "source": [
    "source_model_raw_train.to_csv(\"/Users/vidhyalakshmiparthasarathy/.CMVolumes/Google-Drive-pbvidhyauk6/QMUL_MSc_Project/credit_risk_scoring_project/data/source_model_raw_data/source_model_raw_train.csv\")\n",
    "\n",
    "print(\"Data Export Completed\")"
   ]
  },
  {
   "cell_type": "code",
   "execution_count": null,
   "id": "fb7e05ae-ba13-4121-850b-292e1b6fdfd1",
   "metadata": {},
   "outputs": [],
   "source": [
    "# Sets the pandas dataframe options to display all columns/ rows.\n",
    "\n",
    "pd.options.display.max_columns = None\n",
    "#pd.options.display.max_rows = None\n",
    "\n",
    "print(\"Execution Completed\")"
   ]
  },
  {
   "cell_type": "code",
   "execution_count": null,
   "id": "70cdf9ec-0db0-4690-aa88-ea609829c911",
   "metadata": {},
   "outputs": [],
   "source": [
    "# Checking the size of the dataset\n",
    "\n",
    "source_model_raw_train.shape"
   ]
  },
  {
   "cell_type": "code",
   "execution_count": null,
   "id": "52c1e355-4ca4-4bbf-a25c-3f64bef33a59",
   "metadata": {},
   "outputs": [],
   "source": [
    "# Checking the first 3 column names of the dataset\n",
    "\n",
    "source_model_raw_train.columns[[0, 1, 2]]"
   ]
  },
  {
   "cell_type": "code",
   "execution_count": null,
   "id": "aafdaa99-c7ad-4771-89d8-367fd5fcf527",
   "metadata": {},
   "outputs": [],
   "source": [
    "# Removing the first index column from the dataset\n",
    "\n",
    "source_model_raw_train.drop(source_model_raw_train.columns[0], axis = 1, inplace = True)\n",
    "\n",
    "print(\"Execution Completed\")"
   ]
  },
  {
   "cell_type": "code",
   "execution_count": null,
   "id": "5669582f-ee79-4cb9-84e4-55bcc06e859b",
   "metadata": {},
   "outputs": [],
   "source": [
    "# Re-checking the size of the dataset\n",
    "\n",
    "source_model_raw_train.shape"
   ]
  },
  {
   "cell_type": "code",
   "execution_count": null,
   "id": "cfb58428-50e2-4613-88d1-9ac15c0dde13",
   "metadata": {},
   "outputs": [],
   "source": [
    "# Displying the first 5 data instances\n",
    "\n",
    "source_model_raw_train.head()"
   ]
  },
  {
   "cell_type": "markdown",
   "id": "a4c42bda-e5eb-4f0c-b7d6-b711ac879a34",
   "metadata": {},
   "source": [
    "# FEATURE SELECTION"
   ]
  },
  {
   "cell_type": "markdown",
   "id": "3586762a-2fb1-49aa-996f-3c45c1883c98",
   "metadata": {},
   "source": [
    "#### Below are the list of initial shortlisted features selected that are relevant to FICO Scores; based on Credit Risk Scoring domain expertise and knowledge gathered from FICO official website and 3 credit bureaus (Experian, Equifax and Transunion) official websites.\n",
    "\n",
    "#### This includes both the input/independent (predictors) and target/dependent (label) feature \"fico_score_status\".\n",
    "\n",
    "#### These features are based on the FICO's 5 factors related to Credit Risk Scoring and Non-FICO factors related to lender's internal\n",
    "> #### 1. FICO Factor 1      - Payment History            - (35%)\n",
    "> #### 2. FICO Factor 2      - Amount Owed                - (30%)\n",
    "> #### 3. FICO Factor 3      - Length of Credit History   - (15%)\n",
    "> #### 4. FICO Factor 4      - Credit Mix                 - (10%)\n",
    "> #### 5. FICO Factor 5      - New Credit                 - (10%)\n",
    "> #### 6. Non-FICO Factor 6  - Lender's Internal          - (Custom)    - It varies from one lender (Financial Institution) to an other lender"
   ]
  },
  {
   "cell_type": "code",
   "execution_count": null,
   "id": "f92f67bd-2c09-451e-b9bb-65a629edf7cc",
   "metadata": {},
   "outputs": [],
   "source": [
    "# Initial Shorlisted Featues List related to FICO Scores and Lender's Internal\n",
    "\n",
    "fico_initial_shortlisted_features_list = ['delinq_2yrs', 'mths_since_last_delinq', 'mths_since_last_record', 'pub_rec',\n",
    "                                         'total_rec_late_fee', 'recoveries', 'collection_recovery_fee', 'acc_now_delinq',\n",
    "                                         'chargeoff_within_12_mths', 'delinq_amnt', 'mths_since_recent_bc_dlq',\n",
    "                                         'mths_since_recent_revol_delinq', 'num_accts_ever_120_pd', 'num_tl_120dpd_2m', 'num_tl_30dpd',\n",
    "                                         'num_tl_90g_dpd_24m', 'pub_rec_bankruptcies',\n",
    "                                         'revol_bal', 'revol_util', 'tot_cur_bal', 'total_bal_il', 'il_util', 'max_bal_bc', 'avg_cur_bal',\n",
    "                                         'num_rev_tl_bal_gt_0', 'percent_bc_gt_75', 'total_bal_ex_mort',\n",
    "                                         'earliest_cr_line', 'mo_sin_old_il_acct', 'mo_sin_old_rev_tl_op', 'mths_since_recent_bc',\n",
    "                                         'open_acc','total_acc', 'open_il_24m', 'open_rv_24m', 'mort_acc', 'num_actv_bc_tl', 'num_actv_rev_tl',\n",
    "                                         'num_bc_sats', 'num_bc_tl', 'num_il_tl', 'num_op_rev_tl', 'num_rev_accts', 'num_sats',\n",
    "                                         'inq_last_6mths', 'inq_last_12m', 'acc_open_past_24mths', 'mo_sin_rcnt_rev_tl_op', 'mo_sin_rcnt_tl',\n",
    "                                         'mths_since_recent_inq', 'num_tl_op_past_12m', 'open_il_12m', 'mths_since_rcnt_il', 'open_rv_12m',\n",
    "                                         'emp_length', 'home_ownership', 'annual_inc', 'dti',\n",
    "                                         'fico_score_status']\n",
    "                        \n",
    "\n",
    "print(\"Execution Completed\")"
   ]
  },
  {
   "cell_type": "code",
   "execution_count": null,
   "id": "0d37c65a-fc18-4804-9368-2b76b0e33be7",
   "metadata": {},
   "outputs": [],
   "source": [
    "# Total Number of Initial Shortlisted Features\n",
    "\n",
    "print(\"Total Number of Initial Shortlisted Features including the Target: \", len(fico_initial_shortlisted_features_list))"
   ]
  },
  {
   "cell_type": "code",
   "execution_count": null,
   "id": "86c15c02-a0eb-4f95-9f96-c75dc312399f",
   "metadata": {},
   "outputs": [],
   "source": [
    "# Checking the datatypes of the Initial Shortlisted Features\n",
    "\n",
    "for feat in fico_initial_shortlisted_features_list:\n",
    "    print(feat, \".....\", source_model_train.dtypes[feat])\n"
   ]
  },
  {
   "cell_type": "markdown",
   "id": "33b65309-3976-43ef-bc63-89708b4eab24",
   "metadata": {},
   "source": [
    "## Individual Shortlisted Features with respect to FICO's 5 factors and Lender's Internal factors"
   ]
  },
  {
   "cell_type": "code",
   "execution_count": null,
   "id": "8ab4b85d-51c5-4054-b539-5c90ea3c43ee",
   "metadata": {},
   "outputs": [],
   "source": [
    "# List of features that are relevant to FICO Scores : \"Payment History\" Factor-1\n",
    "\n",
    "fico_payment_history_inputs = ['delinq_2yrs', 'mths_since_last_delinq', 'mths_since_last_record', 'pub_rec', 'total_rec_late_fee',\n",
    "                              'recoveries', 'collection_recovery_fee', 'acc_now_delinq', 'chargeoff_within_12_mths', 'delinq_amnt',\n",
    "                              'mths_since_recent_bc_dlq', 'mths_since_recent_revol_delinq', 'num_accts_ever_120_pd', 'num_tl_120dpd_2m',\n",
    "                              'num_tl_30dpd', 'num_tl_90g_dpd_24m', 'pub_rec_bankruptcies']\n",
    "\n",
    "fico_payment_history_output = ['fico_score_status']\n",
    "\n",
    "fico_payment_history_inputs_output = ['delinq_2yrs', 'mths_since_last_delinq', 'mths_since_last_record', 'pub_rec', 'total_rec_late_fee',\n",
    "                                    'recoveries', 'collection_recovery_fee', 'acc_now_delinq', 'chargeoff_within_12_mths', 'delinq_amnt',\n",
    "                                    'mths_since_recent_bc_dlq', 'mths_since_recent_revol_delinq', 'num_accts_ever_120_pd', 'num_tl_120dpd_2m',\n",
    "                                    'num_tl_30dpd', 'num_tl_90g_dpd_24m', 'pub_rec_bankruptcies', 'fico_score_status']\n",
    "\n",
    "print(\"Execution Completed\")"
   ]
  },
  {
   "cell_type": "code",
   "execution_count": null,
   "id": "02a7c6ef-f487-44dc-bd2a-b2f63d122066",
   "metadata": {},
   "outputs": [],
   "source": [
    "# List of features that are relevant to FICO Scores : \"Amount Owed\" Factor-2\n",
    "\n",
    "fico_amount_owed_inputs = ['revol_bal', 'revol_util', 'tot_cur_bal', 'total_bal_il', 'il_util', 'max_bal_bc', 'avg_cur_bal',\n",
    "                          'num_rev_tl_bal_gt_0', 'percent_bc_gt_75', 'total_bal_ex_mort']\n",
    "\n",
    "fico_amount_owed_output = ['fico_score_status']\n",
    "\n",
    "fico_amount_owed_inputs_output = ['revol_bal', 'revol_util', 'tot_cur_bal', 'total_bal_il', 'il_util', 'max_bal_bc', 'avg_cur_bal',\n",
    "                                 'num_rev_tl_bal_gt_0', 'percent_bc_gt_75', 'total_bal_ex_mort', 'fico_score_status']\n",
    "\n",
    "print(\"Execution Completed\")"
   ]
  },
  {
   "cell_type": "code",
   "execution_count": null,
   "id": "911f0c3c-32be-4313-80a3-a6a01d375317",
   "metadata": {},
   "outputs": [],
   "source": [
    "# List of features that are relevant to FICO Scores : \"Length of Credit History\" Factor-3\n",
    "\n",
    "fico_length_of_credit_history_inputs = ['earliest_cr_line', 'mo_sin_old_il_acct', 'mo_sin_old_rev_tl_op', 'mths_since_recent_bc']\n",
    "\n",
    "fico_length_of_credit_history_output = ['fico_score_status']\n",
    "\n",
    "fico_length_of_credit_history_inputs_output = ['earliest_cr_line', 'mo_sin_old_il_acct', 'mo_sin_old_rev_tl_op', 'mths_since_recent_bc', 'fico_score_status']\n",
    "\n",
    "print(\"Execution Completed\")"
   ]
  },
  {
   "cell_type": "code",
   "execution_count": null,
   "id": "5ff51ff4-fd3c-4d54-8385-e24cccf062ff",
   "metadata": {},
   "outputs": [],
   "source": [
    "# List of features that are relevant to FICO Scores : \"Credit Mix\" Factor-4\n",
    "\n",
    "fico_credit_mix_inputs = ['open_acc', 'total_acc', 'open_il_24m', 'open_rv_24m', 'mort_acc', 'num_actv_bc_tl', 'num_actv_rev_tl',\n",
    "                         'num_bc_sats', 'num_bc_tl', 'num_il_tl', 'num_op_rev_tl', 'num_rev_accts', 'num_sats']\n",
    "\n",
    "fico_credit_mix_output = ['fico_score_status']\n",
    "\n",
    "fico_credit_mix_inputs_output = ['open_acc', 'total_acc', 'open_il_24m', 'open_rv_24m', 'mort_acc', 'num_actv_bc_tl', 'num_actv_rev_tl',\n",
    "                                'num_bc_sats', 'num_bc_tl', 'num_il_tl', 'num_op_rev_tl', 'num_rev_accts', 'num_sats', 'fico_score_status']\n",
    "\n",
    "print(\"Execution Completed\")"
   ]
  },
  {
   "cell_type": "code",
   "execution_count": null,
   "id": "8d002672-8971-44e6-822d-6f669823a1e0",
   "metadata": {},
   "outputs": [],
   "source": [
    "# List of features that are relevant to FICO Scores : \"New Credit\" Factor-5\n",
    "\n",
    "fico_new_credit_inputs = ['inq_last_6mths', 'inq_last_12m', 'acc_open_past_24mths', 'mo_sin_rcnt_rev_tl_op', 'mo_sin_rcnt_tl',\n",
    "                           'mths_since_recent_inq', 'num_tl_op_past_12m', 'open_il_12m', 'mths_since_rcnt_il', 'open_rv_12m']\n",
    "\n",
    "fico_new_credit_output = ['fico_score_status']\n",
    "\n",
    "fico_new_credit_inputs_output = ['inq_last_6mths', 'inq_last_12m', 'acc_open_past_24mths', 'mo_sin_rcnt_rev_tl_op', 'mo_sin_rcnt_tl',\n",
    "                                'mths_since_recent_inq', 'num_tl_op_past_12m', 'open_il_12m', 'mths_since_rcnt_il', 'open_rv_12m', 'fico_score_status']\n",
    "\n",
    "print(\"Execution Completed\")"
   ]
  },
  {
   "cell_type": "code",
   "execution_count": null,
   "id": "653f11a7-5cf5-4c2e-a4cb-4c2ef84649b1",
   "metadata": {},
   "outputs": [],
   "source": [
    "# List of features that are relevant to Non-FICO : \"Lenders Internal\" Factor 6\n",
    "\n",
    "non_fico_lenders_internal_inputs = ['emp_length_int', 'home_ownership_int', 'annual_inc', 'dti']\n",
    "\n",
    "non_fico_lenders_internal_output = ['fico_score_status']\n",
    "\n",
    "non_fico_lenders_internal_inputs_output = ['emp_length_int', 'home_ownership_int', 'annual_inc', 'dti',\n",
    "                                          'fico_score_status']\n",
    "\n",
    "print(\"Execution Completed\")"
   ]
  },
  {
   "cell_type": "markdown",
   "id": "5259718b-b680-4562-b18f-a670982014a8",
   "metadata": {},
   "source": [
    "## Creating a new Dataframe which includes only the 64 initial shortlisted features and the target variable"
   ]
  },
  {
   "cell_type": "code",
   "execution_count": null,
   "id": "5fdccd15-3446-4484-a32d-5dcae7120600",
   "metadata": {},
   "outputs": [],
   "source": [
    "source_model_train_feature_selection = source_model_train[fico_initial_shortlisted_features_list].copy()\n",
    "\n",
    "print(\"Execution Completed\")"
   ]
  },
  {
   "cell_type": "code",
   "execution_count": null,
   "id": "6d6cfc6d-3f24-4fde-aa4c-9f90f945e6b3",
   "metadata": {},
   "outputs": [],
   "source": [
    "# Sets the pandas dataframe options to display all columns/rows\n",
    "\n",
    "pd.options.display.max_columns = None\n",
    "#pd.options.display.max_rows = None\n",
    "\n",
    "print(\"Execution Completed\")"
   ]
  },
  {
   "cell_type": "code",
   "execution_count": null,
   "id": "365e732f-7f2b-48af-982f-b9d7a61060a3",
   "metadata": {},
   "outputs": [],
   "source": [
    "# Checking the size of the dataset\n",
    "\n",
    "source_model_train_feature_selection.shape"
   ]
  },
  {
   "cell_type": "code",
   "execution_count": null,
   "id": "3761e38a-aef0-424d-b50c-dfbb1ba5e20c",
   "metadata": {},
   "outputs": [],
   "source": [
    "# Displying the dataframe\n",
    "\n",
    "source_model_train_feature_selection"
   ]
  },
  {
   "cell_type": "code",
   "execution_count": null,
   "id": "4c0e14c7-5f11-4d57-b085-124617c46239",
   "metadata": {},
   "outputs": [],
   "source": [
    "# Checking the \"NaN\" values in the dataframe\n",
    "\n",
    "source_model_train_feature_selection.isna().sum()"
   ]
  },
  {
   "cell_type": "code",
   "execution_count": null,
   "id": "d6170785-ccb3-4313-9f83-d41ba4040987",
   "metadata": {},
   "outputs": [],
   "source": [
    "# Filling all \"NaN\" values with zeros.\n",
    "\n",
    "source_model_train_feature_selection = source_model_train_feature_selection.fillna(0)\n",
    "\n",
    "print(\"Execution Completed\")"
   ]
  },
  {
   "cell_type": "code",
   "execution_count": null,
   "id": "59bcd8aa-4944-43e8-9e39-77ca0b2413f6",
   "metadata": {},
   "outputs": [],
   "source": [
    "# Re-checking the \"NaN\" values in the dataframe after fixing it\n",
    "\n",
    "source_model_train_feature_selection.isna().sum()"
   ]
  },
  {
   "cell_type": "markdown",
   "id": "fdd17f94-ddad-4f3b-acb7-46fc3a24932a",
   "metadata": {},
   "source": [
    "# Method-1 : Univariate Feature Selection"
   ]
  },
  {
   "cell_type": "markdown",
   "id": "bd584d5b-bec5-4bb2-a6ee-f5308a407f52",
   "metadata": {},
   "source": [
    "## Importing Python Libraries"
   ]
  },
  {
   "cell_type": "code",
   "execution_count": null,
   "id": "408bf04b-d147-4f65-bb83-b6fe8edb050d",
   "metadata": {},
   "outputs": [],
   "source": [
    "from sklearn.feature_selection import SelectKBest\n",
    "from sklearn.feature_selection import f_classif\n",
    "\n",
    "print(\"Import Completed\")"
   ]
  },
  {
   "cell_type": "markdown",
   "id": "00b63ad0-0b2f-4b3b-b5b9-a7e8716d0378",
   "metadata": {},
   "source": [
    "## Creating dataframes for the input and the output"
   ]
  },
  {
   "cell_type": "code",
   "execution_count": null,
   "id": "fb753470-cdfd-4e47-823e-e2197c299831",
   "metadata": {},
   "outputs": [],
   "source": [
    "# Creating 2 dataframes as X and y for the input and the output respectively\n",
    "\n",
    "sm_X = source_model_train_feature_selection.drop(columns=['fico_score_status'])\n",
    "sm_y = source_model_train_feature_selection['fico_score_status']\n",
    "\n",
    "print(\"Execution Completed\")"
   ]
  },
  {
   "cell_type": "code",
   "execution_count": null,
   "id": "48f8480e-cac2-4c39-b34c-be7234777e1e",
   "metadata": {},
   "outputs": [],
   "source": [
    "# Verifying the type of Input (X) and Output (y)\n",
    "\n",
    "print(type(sm_X))\n",
    "print(type(sm_y))"
   ]
  },
  {
   "cell_type": "code",
   "execution_count": null,
   "id": "31e2ae37-909a-4a01-a99c-75086b463ac2",
   "metadata": {},
   "outputs": [],
   "source": [
    "# Verifying the shape of Input (X) and Output (y)\n",
    "\n",
    "print(sm_X.shape)\n",
    "print(sm_y.shape)"
   ]
  },
  {
   "cell_type": "code",
   "execution_count": null,
   "id": "fde29154-e4c1-48eb-af88-61411fde18a3",
   "metadata": {},
   "outputs": [],
   "source": [
    "# Identifying the Features using Univariate Method\n",
    "\n",
    "sm_uni = SelectKBest(score_func = f_classif, k = 25)\n",
    "sm_fit = sm_uni.fit(sm_X, sm_y)\n",
    "\n",
    "print(\"Execution Completed\")"
   ]
  },
  {
   "cell_type": "code",
   "execution_count": null,
   "id": "c4ec852d-85af-40a5-a098-08adad19df1e",
   "metadata": {},
   "outputs": [],
   "source": [
    "sm_X.columns[sm_fit.get_support(indices=True)].tolist()"
   ]
  },
  {
   "cell_type": "markdown",
   "id": "bfe52d8f-7968-4c50-ab8e-ca95f1e0e27b",
   "metadata": {},
   "source": [
    "# Method-2 : Feature Selection Using Correlation Matrix"
   ]
  },
  {
   "cell_type": "code",
   "execution_count": null,
   "id": "0e970759-a8d6-44f0-8c64-e103883f4259",
   "metadata": {},
   "outputs": [],
   "source": [
    "sm_cor = source_model_train_feature_selection.corr()\n",
    "sm_cor_target = abs(sm_cor['fico_score_status'])\n",
    "sm_relevant_features_pos = sm_cor_target[sm_cor_target > 0.2]\n",
    "sm_relevant_features_neg = sm_cor_target[sm_cor_target < 0]\n",
    "print(sm_relevant_features_pos.index)\n",
    "print(sm_relevant_features_neg.index)\n"
   ]
  },
  {
   "cell_type": "markdown",
   "id": "a0a7b639-ef90-49fb-a7fb-a58060a58723",
   "metadata": {},
   "source": [
    "# Creating Individual Dataframes to include only the Unique Atributes with respect to 5 FICO Factors and Lenders Internal Factors"
   ]
  },
  {
   "cell_type": "code",
   "execution_count": null,
   "id": "8fdad7ea-f0d4-44f5-b75d-9101173d2e10",
   "metadata": {},
   "outputs": [],
   "source": [
    "# Creating 2 dataframes for the inputs and the output respectively related to the FICO Factor 1 \"Payment History\"\n",
    "\n",
    "sm_fico_1_X = source_model_train_feature_selection.loc[:,fico_payment_history_inputs]\n",
    "sm_fico_1_y = source_model_train_feature_selection['fico_score_status']\n",
    "\n",
    "print(\"Execution Completed\")"
   ]
  },
  {
   "cell_type": "code",
   "execution_count": null,
   "id": "223b36ea-1a0d-4e9e-8f07-ffff7cbc456d",
   "metadata": {},
   "outputs": [],
   "source": [
    "# Creating 2 dataframes for the inputs and the output respectively related to the FICO Factor 2 \"Amount Owed\"\n",
    "\n",
    "sm_fico_2_X = source_model_train_feature_selection.loc[:,fico_amount_owed_inputs]\n",
    "sm_fico_2_y = source_model_train_feature_selection['fico_score_status']\n",
    "\n",
    "print(\"Execution Completed\")"
   ]
  },
  {
   "cell_type": "code",
   "execution_count": null,
   "id": "32150b4b-67c6-467f-ae8e-9aafb71c47f7",
   "metadata": {},
   "outputs": [],
   "source": [
    "# Creating 2 dataframes for the inputs and the output respectively related to the FICO Factor 3 \"Length of Credit History\"\n",
    "\n",
    "sm_fico_3_X = source_model_train_feature_selection.loc[:,fico_length_of_credit_history_inputs]\n",
    "sm_fico_3_y = source_model_train_feature_selection['fico_score_status']\n",
    "\n",
    "print(\"Execution Completed\")"
   ]
  },
  {
   "cell_type": "code",
   "execution_count": null,
   "id": "2f2abd98-26f3-4b8d-8a9f-8639269a74b2",
   "metadata": {},
   "outputs": [],
   "source": [
    "# Creating 2 dataframes for the inputs and the output respectively related to the FICO Factor 4 \"Credit Mix\"\n",
    "\n",
    "sm_fico_4_X = source_model_train_feature_selection.loc[:,fico_credit_mix_inputs]\n",
    "sm_fico_4_y = source_model_train_feature_selection['fico_score_status']\n",
    "\n",
    "print(\"Execution Completed\")"
   ]
  },
  {
   "cell_type": "code",
   "execution_count": null,
   "id": "823d3e6a-8f37-4af4-9f68-5e639f445664",
   "metadata": {},
   "outputs": [],
   "source": [
    "# Creating 2 dataframes for the inputs and the output respectively related to the FICO Factor 5 \"New Credit\"\n",
    "\n",
    "sm_fico_5_X = source_model_train_feature_selection.loc[:,fico_new_credit_inputs]\n",
    "sm_fico_5_y = source_model_train_feature_selection['fico_score_status']\n",
    "\n",
    "print(\"Execution Completed\")"
   ]
  },
  {
   "cell_type": "code",
   "execution_count": null,
   "id": "1a338f33-0b64-4238-9c95-2af58a165d3d",
   "metadata": {},
   "outputs": [],
   "source": [
    "# Creating 2 dataframes for the inputs and the output respectively related to Non-FICO Factor 6 - \"Lenders Internal\"\n",
    "\n",
    "sm_non_fico_6_X = source_model_train_feature_selection.loc[:,non_fico_lenders_internal_inputs]\n",
    "sm_non_fico_6_y = source_model_train_feature_selection['fico_score_status']\n",
    "\n",
    "print(\"Execution Completed\")"
   ]
  },
  {
   "cell_type": "markdown",
   "id": "33a36c25-1ec7-47ea-ab1f-f35646941468",
   "metadata": {},
   "source": [
    "# Method-3 : PCA"
   ]
  },
  {
   "cell_type": "code",
   "execution_count": null,
   "id": "f562a281-9643-4915-9953-e012fde4e999",
   "metadata": {},
   "outputs": [],
   "source": [
    "# Importing Python Libraries\n",
    "\n",
    "from sklearn.decomposition import PCA\n",
    "\n",
    "print(\"Execution Completed\")"
   ]
  },
  {
   "cell_type": "markdown",
   "id": "83c985d9-1701-47e3-87b5-a3d8c8f35339",
   "metadata": {},
   "source": [
    "## PCA for the full set of features"
   ]
  },
  {
   "cell_type": "code",
   "execution_count": null,
   "id": "10117916-6103-4a5d-9048-33e778a2dd94",
   "metadata": {},
   "outputs": [],
   "source": [
    "# PCA for Feature Selection for the full set of initial shortlisted features\n",
    "\n",
    "full_model = PCA(n_components=25).fit(sm_X)\n",
    "full_n_pcs = full_model.components_.shape[0]\n",
    "full_most_important = [np.abs(full_model.components_[i]).argmax() for i in range(full_n_pcs)]\n",
    "source_model_train_feature_selection.columns[full_most_important]"
   ]
  },
  {
   "cell_type": "markdown",
   "id": "c986ec35-1bf7-4815-82b5-14124477e7e1",
   "metadata": {},
   "source": [
    "## PCA for FICO Factor 1 - \"Payment History\""
   ]
  },
  {
   "cell_type": "code",
   "execution_count": null,
   "id": "cc0e2a68-b5c5-4ed6-86c7-00a6a50f1491",
   "metadata": {},
   "outputs": [],
   "source": [
    "# PCA for Feature Selection for the initial shortlisted features related to FICO Factor 1 - \"Payment History\"\n",
    "\n",
    "fico_1_model = PCA(n_components=7).fit(sm_fico_1_X)\n",
    "fico_1_n_pcs = fico_1_model.components_.shape[0]\n",
    "fico_1_most_important = [np.abs(fico_1_model.components_[i]).argmax() for i in range(fico_1_n_pcs)]\n",
    "sm_fico_1_X.columns[fico_1_most_important]\n"
   ]
  },
  {
   "cell_type": "markdown",
   "id": "25c557e3-6245-4be4-a0b9-df3ff001897c",
   "metadata": {},
   "source": [
    "## PCA for FICO Factor 2 - \"Amount Owed\""
   ]
  },
  {
   "cell_type": "code",
   "execution_count": null,
   "id": "49b35571-abc6-48b3-ab30-2d40f10722a3",
   "metadata": {},
   "outputs": [],
   "source": [
    "# PCA for Feature Selection for the initial shortlisted features related to FICO Factor 2 - \"Amount Owed\"\n",
    "\n",
    "fico_2_model = PCA(n_components=6).fit(sm_fico_2_X)\n",
    "fico_2_n_pcs = fico_2_model.components_.shape[0]\n",
    "fico_2_most_important = [np.abs(fico_2_model.components_[i]).argmax() for i in range(fico_2_n_pcs)]\n",
    "sm_fico_2_X.columns[fico_2_most_important]\n"
   ]
  },
  {
   "cell_type": "markdown",
   "id": "69829035-33ce-4cbd-84b1-e79dccee9a9b",
   "metadata": {},
   "source": [
    "## PCA for FICO Factor 3 - \"Length of Credit History\""
   ]
  },
  {
   "cell_type": "code",
   "execution_count": null,
   "id": "0a111c68-97b4-486a-804f-a3726c5dbd26",
   "metadata": {},
   "outputs": [],
   "source": [
    "# PCA for Feature Selection for the initial shortlisted features related to FICO Factor 3 - \"Length of Credit History\"\n",
    "\n",
    "fico_3_model = PCA(n_components=3).fit(sm_fico_3_X)\n",
    "fico_3_n_pcs = fico_3_model.components_.shape[0]\n",
    "fico_3_most_important = [np.abs(fico_3_model.components_[i]).argmax() for i in range(fico_3_n_pcs)]\n",
    "sm_fico_3_X.columns[fico_3_most_important]\n"
   ]
  },
  {
   "cell_type": "markdown",
   "id": "d6b32a2e-29b5-4ec8-9fec-94164ab28e9e",
   "metadata": {},
   "source": [
    "## PCA for FICO Factor 4 - \"Credit Mix\""
   ]
  },
  {
   "cell_type": "code",
   "execution_count": null,
   "id": "647c79e3-b59f-4590-a83b-23ab09a597fe",
   "metadata": {},
   "outputs": [],
   "source": [
    "# PCA for Feature Selection for the initial shortlisted features related to FICO Factor 4 - \"Credit Mix\"\n",
    "\n",
    "fico_4_model = PCA(n_components=7).fit(sm_fico_4_X)\n",
    "fico_4_n_pcs = fico_4_model.components_.shape[0]\n",
    "fico_4_most_important = [np.abs(fico_4_model.components_[i]).argmax() for i in range(fico_4_n_pcs)]\n",
    "sm_fico_4_X.columns[fico_4_most_important]"
   ]
  },
  {
   "cell_type": "markdown",
   "id": "2e40ebd7-df28-4225-a439-55d74183185e",
   "metadata": {},
   "source": [
    "## PCA for FICO Factor 5 - \"New Credit\""
   ]
  },
  {
   "cell_type": "code",
   "execution_count": null,
   "id": "7301f6ca-5d1d-4399-acbd-c71e4d0968bb",
   "metadata": {},
   "outputs": [],
   "source": [
    "# PCA for Feature Selection for the initial shortlisted features related to FICO Factor 5 - \"New Credit\"\n",
    "\n",
    "fico_5_model = PCA(n_components=5).fit(sm_fico_5_X)\n",
    "fico_5_n_pcs = fico_5_model.components_.shape[0]\n",
    "fico_5_most_important = [np.abs(fico_5_model.components_[i]).argmax() for i in range(fico_5_n_pcs)]\n",
    "sm_fico_5_X.columns[fico_5_most_important]"
   ]
  },
  {
   "cell_type": "markdown",
   "id": "7a6451c5-b888-4a39-afb5-dbfa80a68f3c",
   "metadata": {},
   "source": [
    "## PCA for Non-FICO Factor 6 - “Lenders Internal”"
   ]
  },
  {
   "cell_type": "code",
   "execution_count": null,
   "id": "d892acc7-6580-4ada-be34-e7453c5c777c",
   "metadata": {},
   "outputs": [],
   "source": [
    "# PCA for Feature Selection for the initial shortlisted features related to Non-FICO Factor 6 - \"Lenders Internal\"\n",
    "\n",
    "fico_6_model = PCA(n_components=3).fit(sm_non_fico_6_X)\n",
    "fico_6_n_pcs = fico_6_model.components_.shape[0]\n",
    "fico_6_most_important = [np.abs(fico_6_model.components_[i]).argmax() for i in range(fico_6_n_pcs)]\n",
    "sm_non_fico_6_X.columns[fico_6_most_important]"
   ]
  },
  {
   "cell_type": "markdown",
   "id": "7bdc9334-6e80-4387-809a-af7db54585ac",
   "metadata": {},
   "source": [
    "# Method-4a : Wrapper Method using p-values - Forward Selection Method (Without using any Built-in Functions)"
   ]
  },
  {
   "cell_type": "code",
   "execution_count": null,
   "id": "bbe84465-f603-4949-80c7-31a923308728",
   "metadata": {},
   "outputs": [],
   "source": [
    "# Importing Python Libraries\n",
    "\n",
    "import statsmodels.api as sm\n",
    "\n",
    "print(\"Import Completed\")"
   ]
  },
  {
   "cell_type": "markdown",
   "id": "19fc638e-fe9c-45df-a764-69c4b9b439f4",
   "metadata": {},
   "source": [
    "## Wrapper Method - Forward Selection Method for the full set of features"
   ]
  },
  {
   "cell_type": "code",
   "execution_count": null,
   "id": "cf79ea7a-ce81-4d08-8c61-aba56c9ba671",
   "metadata": {},
   "outputs": [],
   "source": [
    "# Extracting p-values of the attributes for Feature Selection for the full set of initial shortlisted features\n",
    "\n",
    "sm_X_new = sm.add_constant(sm_X)\n",
    "sm_full_model = sm.OLS(sm_y, sm_X_new).fit()\n",
    "\n",
    "print(\"\\nNumber of p-values: \", sm_full_model.pvalues.shape[0])\n",
    "print(sm_full_model.pvalues)"
   ]
  },
  {
   "cell_type": "code",
   "execution_count": null,
   "id": "d834329f-0b5b-4bb5-96e2-3f0f9ca6fdad",
   "metadata": {},
   "outputs": [],
   "source": [
    "# Wrapper Method - Forward Selection Method for Feature Selection for the full set of initial shortlisted features\n",
    "\n",
    "sm_full_selected_features = list(sm_X.columns)\n",
    "pmax = 1\n",
    "while (len(sm_full_selected_features)>0):\n",
    "    sm_full_p= []\n",
    "    sm_X_new = sm_X[sm_full_selected_features]\n",
    "    sm_X_new = sm.add_constant(sm_X_new)\n",
    "    sm_full_model = sm.OLS(sm_y,sm_X_new).fit()\n",
    "    sm_full_p = pd.Series(sm_full_model.pvalues.values[1:],index = sm_full_selected_features)      \n",
    "    sm_full_pmax = max(sm_full_p)\n",
    "    sm_full_feature_pmax = sm_full_p.idxmax()\n",
    "    if(sm_full_pmax > 0.05):    # Indicates Confidence of 95%\n",
    "        sm_full_selected_features.remove(sm_full_feature_pmax)\n",
    "    else:\n",
    "        break\n",
    "\n",
    "sm_full_selected_features"
   ]
  },
  {
   "cell_type": "markdown",
   "id": "ed97d73f-e2fb-4ff2-b1e2-204853672042",
   "metadata": {},
   "source": [
    "## Wrapper Method - Forward Selection Method for FICO Factor 1 - \"Payment History\""
   ]
  },
  {
   "cell_type": "code",
   "execution_count": null,
   "id": "fc6cb9e0-1e1b-4589-8ab7-b4482e07fca8",
   "metadata": {},
   "outputs": [],
   "source": [
    "# Extracting p-values of the attributes for Feature Selection for the initial shortlisted features related to FICO Factor 1 - \"Payment History\"\n",
    "\n",
    "sm_fico_1_X_new = sm.add_constant(sm_fico_1_X)\n",
    "sm_fico_1_model = sm.OLS(sm_fico_1_y, sm_fico_1_X_new).fit()\n",
    "\n",
    "print(\"\\nNumber of p-values to features related to FICO Factor 1 - 'Payment History': \", sm_fico_1_model.pvalues.shape[0])\n",
    "print(sm_fico_1_model.pvalues)"
   ]
  },
  {
   "cell_type": "code",
   "execution_count": null,
   "id": "7f509f65-2e8c-4747-8eaf-f1bba8bda62d",
   "metadata": {},
   "outputs": [],
   "source": [
    "# Wrapper Method - Forward Selection Method for Feature Selection for the initial shortlisted features related to FICO Factor 1 - \"Payment History\"\n",
    "\n",
    "sm_fico_1_selected_features = list(sm_fico_1_X.columns)\n",
    "pmax = 1\n",
    "while (len(sm_fico_1_selected_features)>0):\n",
    "    sm_fico_1_p= []\n",
    "    sm_fico_1_X_new = sm_fico_1_X[sm_fico_1_selected_features]\n",
    "    sm_fico_1_X_new = sm.add_constant(sm_fico_1_X_new)\n",
    "    sm_fico_1_model = sm.OLS(sm_fico_1_y,sm_fico_1_X_new).fit()\n",
    "    sm_fico_1_p = pd.Series(sm_fico_1_model.pvalues.values[1:],index = sm_fico_1_selected_features)      \n",
    "    sm_fico_1_pmax = max(sm_fico_1_p)\n",
    "    sm_fico_1_feature_pmax = sm_fico_1_p.idxmax()\n",
    "    if(sm_fico_1_pmax > 0.05):    # Indicates Confidence of 95%\n",
    "        sm_fico_1_selected_features.remove(sm_fico_1_feature_pmax)\n",
    "    else:\n",
    "        break\n",
    "\n",
    "sm_fico_1_selected_features"
   ]
  },
  {
   "cell_type": "markdown",
   "id": "79161648-efb1-49f2-b23a-71e28d854d25",
   "metadata": {},
   "source": [
    "## Wrapper Method - Forward Selection Method for FICO Factor 2 - \"Amount Owed\""
   ]
  },
  {
   "cell_type": "code",
   "execution_count": null,
   "id": "9164c247-2c97-402c-afcb-b4d53c8b960f",
   "metadata": {},
   "outputs": [],
   "source": [
    "# Extracting p-values of the attributes for Feature Selection for the initial shortlisted features related to FICO Factor 2 - \"Amount Owed\"\n",
    "\n",
    "sm_fico_2_X_new = sm.add_constant(sm_fico_2_X)\n",
    "sm_fico_2_model = sm.OLS(sm_fico_2_y, sm_fico_2_X_new).fit()\n",
    "\n",
    "print(\"\\nNumber of p-values to features related to FICO Factor 2 - 'Amount Owed': \", sm_fico_2_model.pvalues.shape[0])\n",
    "print(sm_fico_2_model.pvalues)"
   ]
  },
  {
   "cell_type": "code",
   "execution_count": null,
   "id": "2cf45ec5-a311-4928-8ca3-d92bea5e0d67",
   "metadata": {},
   "outputs": [],
   "source": [
    "# Wrapper Method - Forward Selection Method for Feature Selection for the initial shortlisted features related to FICO Factor 2 - \"Amount Owed\"\n",
    "\n",
    "sm_fico_2_selected_features = list(sm_fico_2_X.columns)\n",
    "pmax = 1\n",
    "while (len(sm_fico_2_selected_features)>0):\n",
    "    sm_fico_2_p= []\n",
    "    sm_fico_2_X_new = sm_fico_2_X[sm_fico_2_selected_features]\n",
    "    sm_fico_2_X_new = sm.add_constant(sm_fico_2_X_new)\n",
    "    sm_fico_2_model = sm.OLS(sm_fico_2_y,sm_fico_2_X_new).fit()\n",
    "    sm_fico_2_p = pd.Series(sm_fico_2_model.pvalues.values[1:],index = sm_fico_2_selected_features)      \n",
    "    sm_fico_2_pmax = max(sm_fico_2_p)\n",
    "    sm_fico_2_feature_pmax = sm_fico_2_p.idxmax()\n",
    "    if(sm_fico_2_pmax > 0.05):    # Indicates Confidence of 95%\n",
    "        sm_fico_2_selected_features.remove(sm_fico_2_feature_pmax)\n",
    "    else:\n",
    "        break\n",
    "\n",
    "sm_fico_2_selected_features"
   ]
  },
  {
   "cell_type": "markdown",
   "id": "8b04bb55-7e73-44aa-8abb-453279eef797",
   "metadata": {},
   "source": [
    "## Wrapper Method - Forward Selection Method for FICO Factor 3 - \"Length of Credit History\""
   ]
  },
  {
   "cell_type": "code",
   "execution_count": null,
   "id": "bfd233f1-d717-440c-9f3a-32b894e19eb3",
   "metadata": {},
   "outputs": [],
   "source": [
    "# Extracting p-values of the attributes for Feature Selection for the initial shortlisted features related to FICO Factor 3 - \"Length of Credit History\"\n",
    "\n",
    "sm_fico_3_X_new = sm.add_constant(sm_fico_3_X)\n",
    "sm_fico_3_model = sm.OLS(sm_fico_3_y, sm_fico_3_X_new).fit()\n",
    "\n",
    "print(\"\\nNumber of p-values to features related to FICO Factor 3 - 'Length of Credit History': \", sm_fico_3_model.pvalues.shape[0])\n",
    "print(sm_fico_3_model.pvalues)"
   ]
  },
  {
   "cell_type": "code",
   "execution_count": null,
   "id": "d380a653-dea0-42cb-92ce-74f59e3b2240",
   "metadata": {},
   "outputs": [],
   "source": [
    "# Wrapper Method - Forward Selection Method for Feature Selection for the initial shortlisted features related to FICO Factor 3 - \"Length of Credit History\"\n",
    "\n",
    "sm_fico_3_selected_features = list(sm_fico_3_X.columns)\n",
    "pmax = 1\n",
    "while (len(sm_fico_3_selected_features)>0):\n",
    "    sm_fico_3_p= []\n",
    "    sm_fico_3_X_new = sm_fico_3_X[sm_fico_3_selected_features]\n",
    "    sm_fico_3_X_new = sm.add_constant(sm_fico_3_X_new)\n",
    "    sm_fico_3_model = sm.OLS(sm_fico_3_y,sm_fico_3_X_new).fit()\n",
    "    sm_fico_3_p = pd.Series(sm_fico_3_model.pvalues.values[1:],index = sm_fico_3_selected_features)      \n",
    "    sm_fico_3_pmax = max(sm_fico_3_p)\n",
    "    sm_fico_3_feature_pmax = sm_fico_3_p.idxmax()\n",
    "    if(sm_fico_3_pmax > 0.05):    # Indicates Confidence of 95%\n",
    "        sm_fico_3_selected_features.remove(sm_fico_3_feature_pmax)\n",
    "    else:\n",
    "        break\n",
    "\n",
    "sm_fico_3_selected_features"
   ]
  },
  {
   "cell_type": "markdown",
   "id": "8298aa7e-ad28-4560-868e-394a9316b921",
   "metadata": {},
   "source": [
    "## Wrapper Method - Forward Selection Method for FICO Factor 4 - \"Credit Mix\""
   ]
  },
  {
   "cell_type": "code",
   "execution_count": null,
   "id": "14d7ba74-fe01-483c-91cc-43c2f0109055",
   "metadata": {},
   "outputs": [],
   "source": [
    "# Extracting p-values of the attributes for Feature Selection for the initial shortlisted features related to FICO Factor 4 - \"Credit Mix\"\n",
    "\n",
    "sm_fico_4_X_new = sm.add_constant(sm_fico_4_X)\n",
    "sm_fico_4_model = sm.OLS(sm_fico_4_y, sm_fico_4_X_new).fit()\n",
    "\n",
    "print(\"\\nNumber of p-values to features related to FICO Factor 4 - 'Credit Mix': \", sm_fico_4_model.pvalues.shape[0])\n",
    "print(sm_fico_4_model.pvalues)"
   ]
  },
  {
   "cell_type": "code",
   "execution_count": null,
   "id": "dba7c40b-fdab-4df5-bf88-906b5fba09ff",
   "metadata": {},
   "outputs": [],
   "source": [
    "# Wrapper Method - Forward Selection Method for Feature Selection for the initial shortlisted features related to FICO Factor 4 - \"Credit Mix\"\n",
    "\n",
    "sm_fico_4_selected_features = list(sm_fico_4_X.columns)\n",
    "pmax = 1\n",
    "while (len(sm_fico_4_selected_features)>0):\n",
    "    sm_fico_4_p= []\n",
    "    sm_fico_4_X_new = sm_fico_4_X[sm_fico_4_selected_features]\n",
    "    sm_fico_4_X_new = sm.add_constant(sm_fico_4_X_new)\n",
    "    sm_fico_4_model = sm.OLS(sm_fico_4_y,sm_fico_4_X_new).fit()\n",
    "    sm_fico_4_p = pd.Series(sm_fico_4_model.pvalues.values[1:],index = sm_fico_4_selected_features)      \n",
    "    sm_fico_4_pmax = max(sm_fico_4_p)\n",
    "    sm_fico_4_feature_pmax = sm_fico_4_p.idxmax()\n",
    "    if(sm_fico_4_pmax > 0.05):    # Indicates Confidence of 95%\n",
    "        sm_fico_4_selected_features.remove(sm_fico_4_feature_pmax)\n",
    "    else:\n",
    "        break\n",
    "\n",
    "sm_fico_4_selected_features"
   ]
  },
  {
   "cell_type": "markdown",
   "id": "d344c6f6-0d20-4946-b3ab-0b31ff5a31ee",
   "metadata": {},
   "source": [
    "## Wrapper Method - Forward Selection Method for FICO Factor 5 - \"New Credit\""
   ]
  },
  {
   "cell_type": "code",
   "execution_count": null,
   "id": "7560c918-3111-4dbe-bd31-f29570f8bd6a",
   "metadata": {},
   "outputs": [],
   "source": [
    "# Extracting p-values of the attributes for Feature Selection for the initial shortlisted features related to FICO Factor 5 - \"New Credit\"\n",
    "\n",
    "sm_fico_5_X_new = sm.add_constant(sm_fico_5_X)\n",
    "sm_fico_5_model = sm.OLS(sm_fico_5_y, sm_fico_5_X_new).fit()\n",
    "\n",
    "print(\"\\nNumber of p-values to features related to FICO Factor 5 - 'New Credit': \", sm_fico_5_model.pvalues.shape[0])\n",
    "print(sm_fico_5_model.pvalues)"
   ]
  },
  {
   "cell_type": "code",
   "execution_count": null,
   "id": "206dd8a5-3b32-43e0-b0d9-0eec2db67cdb",
   "metadata": {},
   "outputs": [],
   "source": [
    "# Wrapper Method - Forward Selection Method for Feature Selection for the initial shortlisted features related to FICO Factor 5 - \"New Credit\"\n",
    "\n",
    "sm_fico_5_selected_features = list(sm_fico_5_X.columns)\n",
    "pmax = 1\n",
    "while (len(sm_fico_5_selected_features)>0):\n",
    "    sm_fico_5_p= []\n",
    "    sm_fico_5_X_new = sm_fico_5_X[sm_fico_5_selected_features]\n",
    "    sm_fico_5_X_new = sm.add_constant(sm_fico_5_X_new)\n",
    "    sm_fico_5_model = sm.OLS(sm_fico_5_y,sm_fico_5_X_new).fit()\n",
    "    sm_fico_5_p = pd.Series(sm_fico_5_model.pvalues.values[1:],index = sm_fico_5_selected_features)      \n",
    "    sm_fico_5_pmax = max(sm_fico_5_p)\n",
    "    sm_fico_5_feature_pmax = sm_fico_5_p.idxmax()\n",
    "    if(sm_fico_5_pmax > 0.05):    # Indicates Confidence of 95%\n",
    "        sm_fico_5_selected_features.remove(sm_fico_5_feature_pmax)\n",
    "    else:\n",
    "        break\n",
    "\n",
    "sm_fico_5_selected_features"
   ]
  },
  {
   "cell_type": "markdown",
   "id": "f615016f-b9d8-4b1c-86f3-93c918508605",
   "metadata": {},
   "source": [
    "## Wrapper Method - Forward Selection Method for Non-FICO Factor 6 - “Lenders Internal”"
   ]
  },
  {
   "cell_type": "code",
   "execution_count": null,
   "id": "2aac55ca-1fee-49b1-9ea2-bc892bf69cb8",
   "metadata": {},
   "outputs": [],
   "source": [
    "# Extracting p-values of the attributes for Feature Selection for the initial shortlisted features related to Non-FICO Factor 6 - \"Lenders Internal\"\n",
    "\n",
    "sm_non_fico_6_X_new = sm.add_constant(sm_non_fico_6_X)\n",
    "sm_non_fico_6_model = sm.OLS(sm_non_fico_6_y, sm_non_fico_6_X_new).fit()\n",
    "\n",
    "print(\"\\nNumber of p-values to features related to Non-FICO Factor 6 - 'Lenders Internal': \", sm_non_fico_6_model.pvalues.shape[0])\n",
    "print(sm_non_fico_6_model.pvalues)"
   ]
  },
  {
   "cell_type": "code",
   "execution_count": null,
   "id": "8615394c-420d-4063-a031-1913ebc86638",
   "metadata": {},
   "outputs": [],
   "source": [
    "# Wrapper Method - Forward Selection Method for Feature Selection for the initial shortlisted features related to Non-FICO Factor 6 - \"Lenders Internal\"\n",
    "\n",
    "sm_non_fico_6_selected_features = list(sm_non_fico_6_X.columns)\n",
    "pmax = 1\n",
    "while (len(sm_non_fico_6_selected_features)>0):\n",
    "    sm_non_fico_6_p= []\n",
    "    sm_non_fico_6_X_new = sm_non_fico_6_X[sm_non_fico_6_selected_features]\n",
    "    sm_non_fico_6_X_new = sm.add_constant(sm_non_fico_6_X_new)\n",
    "    sm_non_fico_6_model = sm.OLS(sm_non_fico_6_y,sm_non_fico_6_X_new).fit()\n",
    "    sm_non_fico_6_p = pd.Series(sm_non_fico_6_model.pvalues.values[1:],index = sm_non_fico_6_selected_features)      \n",
    "    sm_non_fico_6_pmax = max(sm_non_fico_6_p)\n",
    "    sm_non_fico_6_feature_pmax = sm_non_fico_6_p.idxmax()\n",
    "    if(sm_non_fico_6_pmax > 0.05):    # Indicates Confidence of 95%\n",
    "        sm_non_fico_6_selected_features.remove(sm_non_fico_6_feature_pmax)\n",
    "    else:\n",
    "        break\n",
    "\n",
    "sm_non_fico_6_selected_features"
   ]
  },
  {
   "cell_type": "markdown",
   "id": "2541b548-f0d5-48f6-b4cc-0dea77f7ec79",
   "metadata": {},
   "source": [
    "# Method-4b : Wrapper Method using p-values - Forward Selection Method (Using Built-in Functions)"
   ]
  },
  {
   "cell_type": "markdown",
   "id": "6f2eb5e1-fea1-41ff-ad79-0f750d6945ce",
   "metadata": {},
   "source": [
    "# ***** DO NO EXECUTE *****"
   ]
  },
  {
   "cell_type": "code",
   "execution_count": null,
   "id": "04789ce7-9219-47e1-bd66-a4e96b4c5d7b",
   "metadata": {},
   "outputs": [],
   "source": [
    "# Importing the Python Libraries\n",
    "\n",
    "from mlxtend.feature_selection import SequentialFeatureSelector as SFS\n",
    "from mlxtend.plotting import plot_sequential_feature_selection as plot_sfs\n",
    "from sklearn.linear_model import LogisticRegression\n",
    "\n",
    "print(\"Import Completed\")"
   ]
  },
  {
   "cell_type": "code",
   "execution_count": null,
   "id": "b72f9e21-864a-49ab-bd80-e00e4941b4a1",
   "metadata": {},
   "outputs": [],
   "source": [
    "# Feature Selection\n",
    "\n",
    "sm_classifier = LogisticRegression()\n",
    "sfs = SFS(sm_classifier, \n",
    "          k_features=25, \n",
    "          forward=True, \n",
    "          floating=False, \n",
    "          #scoring='neg_mean_squared_error',\n",
    "          scoring='accuracy',\n",
    "          cv=10)\n",
    "sm_sfs = sfs.fit(sm_X, sm_y)\n",
    "\n",
    "print(\"Execution Completed\")"
   ]
  },
  {
   "cell_type": "code",
   "execution_count": null,
   "id": "edaffc67-1657-4fc5-adea-7e4fb2a54e65",
   "metadata": {},
   "outputs": [],
   "source": [
    "# Feature Selection Outcomes Visualisation\n",
    "\n",
    "fig = plot_sfs(sm_sfs.get_metric_dict(), kind='std_err')\n",
    "plt.title('Sequential Forward Selection (w. StdErr)')\n",
    "plt.grid()\n",
    "plt.show()\n",
    "\n",
    "print(\"Execution Completed\")"
   ]
  },
  {
   "cell_type": "code",
   "execution_count": null,
   "id": "41a7ae5e-75a7-4e00-b387-5bb5ba85d875",
   "metadata": {},
   "outputs": [],
   "source": [
    "# Selected Features\n",
    "\n",
    "sm_sfs.k_feature_names_"
   ]
  },
  {
   "cell_type": "markdown",
   "id": "98420afc-5185-4937-b722-0141125cfc1f",
   "metadata": {},
   "source": [
    "# Method-5 : Wrapper Method - Recursive Feature Elimination (RFE)"
   ]
  },
  {
   "cell_type": "code",
   "execution_count": null,
   "id": "8e1e0fbc-5cab-4a82-9a81-e2d0927ccc24",
   "metadata": {},
   "outputs": [],
   "source": [
    "# Importing the Python Libraries\n",
    "\n",
    "from sklearn.feature_selection import RFE\n",
    "from sklearn.linear_model import LogisticRegression\n",
    "\n",
    "print(\"Import Completed\")"
   ]
  },
  {
   "cell_type": "markdown",
   "id": "e4f5fa39-f06f-42c7-bad6-33716aac7af7",
   "metadata": {},
   "source": [
    "## RFE for the full set of features"
   ]
  },
  {
   "cell_type": "code",
   "execution_count": null,
   "id": "88451c96-a174-4a72-86bb-ecef4ee36dfe",
   "metadata": {},
   "outputs": [],
   "source": [
    "# RFE with Logistic Regression for Feature Selection\n",
    "\n",
    "sm_rfe_full_model = LogisticRegression()\n",
    "sm_rfe_full = RFE(sm_rfe_full_model, 25)\n",
    "sm_rfe_full_fit = sm_rfe.fit(sm_X, sm_y)\n",
    "\n",
    "print(\"All FICO Factors and Lenders Internal Factors - Total Selected Features: %s\" % (sm_rfe_full_fit.n_features_))\n",
    "print(\"All FICO Factors and Lenders Internal Factors - Selected Features: %s\" % (sm_rfe_full_fit.support_))\n",
    "print(\"All FICO Factors and Lenders Internal Factors - Selected Features Ranking: %s\" % (sm_rfe_full_fit.ranking_))"
   ]
  },
  {
   "cell_type": "markdown",
   "id": "02292c2b-36a5-40c9-a78d-58af9f826cd2",
   "metadata": {},
   "source": [
    "## RFE for FICO Factor 1 - \"Payment History\""
   ]
  },
  {
   "cell_type": "markdown",
   "id": "8ff45d3a-f286-4488-abab-f13c184656b1",
   "metadata": {},
   "source": [
    "## Creating dataframes for the inputs related to FICO Factor 1 \"Payment History\" and the output"
   ]
  },
  {
   "cell_type": "code",
   "execution_count": null,
   "id": "6bba0a36-d192-485d-ba2a-b51ac0157a2d",
   "metadata": {},
   "outputs": [],
   "source": [
    "# Verifying the type of Input and Output dataframes related to the FICO Factor 1 \"Payment History\"\n",
    "\n",
    "print(type(sm_fico_1_X))\n",
    "print(type(sm_fico_1_y))"
   ]
  },
  {
   "cell_type": "code",
   "execution_count": null,
   "id": "fc7b51b6-2428-4214-9801-4632318e113f",
   "metadata": {},
   "outputs": [],
   "source": [
    "# Verifying the shape of Input and Output dataframes related to the FICO Factor 1 \"Payment History\"\n",
    "\n",
    "print(sm_fico_1_X.shape)\n",
    "print(sm_fico_1_y.shape)"
   ]
  },
  {
   "cell_type": "code",
   "execution_count": null,
   "id": "ab61d332-d3ea-4333-81d7-bcd8936644a1",
   "metadata": {},
   "outputs": [],
   "source": [
    "# Displaying sample data instances of the input dataframe which includes only the initial shortlisted inputs related to FICO Factor 1 \"Payment History\"\n",
    "\n",
    "sm_fico_1_X[:5]"
   ]
  },
  {
   "cell_type": "code",
   "execution_count": null,
   "id": "859d672c-5603-4e7c-9f65-a02d1a80f0b8",
   "metadata": {},
   "outputs": [],
   "source": [
    "# Displaying sample data instances of the output dataframe with target named \"fico_score_status\"\n",
    "\n",
    "sm_fico_1_y[:5]"
   ]
  },
  {
   "cell_type": "code",
   "execution_count": null,
   "id": "fcfe7bfb-ea06-4524-ae1b-4af7a0c678eb",
   "metadata": {},
   "outputs": [],
   "source": [
    "# RFE with Logistic Regression for Feature Selection with respect to FICO Factor 1 \"Payment History\"\n",
    "\n",
    "sm_rfe_fico_1_model = LogisticRegression()\n",
    "sm_rfe_fico_1 = RFE(sm_rfe_fico_1_model, 6)\n",
    "sm_rfe_fico_1_fit = sm_rfe_fico_1.fit(sm_fico_1_X, sm_fico_1_y)\n",
    "\n",
    "print(\"FICO Factor 1 'Payment History' Total Selected Features: %s\" % (sm_rfe_fico_1_fit.n_features_))\n",
    "print(\"FICO Factor 1 'Payment History' Selected Features: %s\" % (sm_rfe_fico_1_fit.support_))\n",
    "print(\"FICO Factor 1 'Payment History' Selected Features Ranking: %s\" % (sm_rfe_fico_1_fit.ranking_))"
   ]
  },
  {
   "cell_type": "markdown",
   "id": "69b56ae8-5b3d-4faf-baa7-c3bb1453a2bd",
   "metadata": {},
   "source": [
    "## RFE for FICO Factor 2 - \"Amount Owed\""
   ]
  },
  {
   "cell_type": "markdown",
   "id": "96bafb6f-9380-41e1-80a8-56c1c2e0f2f8",
   "metadata": {},
   "source": [
    "## Creating dataframes for the inputs related to FICO Factor 2 \"Amount Owed\" and the output¶"
   ]
  },
  {
   "cell_type": "code",
   "execution_count": null,
   "id": "917ddf8b-5a2d-4579-a6cf-3b09f4ca401d",
   "metadata": {},
   "outputs": [],
   "source": [
    "# Verifying the type of Input and Output dataframes related to the FICO Factor 2 \"Amount Owed\"\n",
    "\n",
    "print(type(sm_fico_2_X))\n",
    "print(type(sm_fico_2_y))"
   ]
  },
  {
   "cell_type": "code",
   "execution_count": null,
   "id": "b15b35ee-3e0d-44ce-8bb2-c0cd724effbb",
   "metadata": {},
   "outputs": [],
   "source": [
    "# Verifying the shape of Input and Output dataframes related to the FICO Factor 2 \"Amount Owed\"\n",
    "\n",
    "print(sm_fico_2_X.shape)\n",
    "print(sm_fico_2_y.shape)"
   ]
  },
  {
   "cell_type": "code",
   "execution_count": null,
   "id": "a094bbe3-1581-491f-89d7-8ad216da1324",
   "metadata": {},
   "outputs": [],
   "source": [
    "# Displaying sample data instances of the input dataframe which includes only the initial shortlisted inputs related to FICO Factor 2 \"Amount Owed\"\n",
    "\n",
    "sm_fico_2_X[:5]"
   ]
  },
  {
   "cell_type": "code",
   "execution_count": null,
   "id": "86390e63-d733-4642-90cb-bad0609dbc48",
   "metadata": {},
   "outputs": [],
   "source": [
    "# Displaying sample data instances of the output dataframe with target named \"fico_score_status\"\n",
    "\n",
    "sm_fico_2_y[:5]"
   ]
  },
  {
   "cell_type": "code",
   "execution_count": null,
   "id": "cad6a05e-69a7-41da-8169-d18592d9d87e",
   "metadata": {},
   "outputs": [],
   "source": [
    "# RFE with Logistic Regression for Feature Selection with respect to FICO Factor 2 \"Amount Owed\"\n",
    "\n",
    "sm_rfe_fico_2_model = LogisticRegression()\n",
    "sm_rfe_fico_2 = RFE(sm_rfe_fico_2_model, 5)\n",
    "sm_rfe_fico_2_fit = sm_rfe_fico_2.fit(sm_fico_2_X, sm_fico_2_y)\n",
    "\n",
    "print(\"FICO Factor 2 'Amount Owed' Total Selected Features: %s\" % (sm_rfe_fico_2_fit.n_features_))\n",
    "print(\"FICO Factor 2 'Amount Owed' Selected Features: %s\" % (sm_rfe_fico_2_fit.support_))\n",
    "print(\"FICO Factor 2 'Amount Owed' Selected Features Ranking: %s\" % (sm_rfe_fico_2_fit.ranking_))"
   ]
  },
  {
   "cell_type": "markdown",
   "id": "05acd15d-828f-46ae-87b3-fa8bb730600d",
   "metadata": {},
   "source": [
    "## RFE for FICO Factor 3 - \"Length of Credit History\""
   ]
  },
  {
   "cell_type": "markdown",
   "id": "c2111e40-d461-499f-9725-f7db566361e8",
   "metadata": {},
   "source": [
    "## Creating dataframes for the inputs related to FICO Factor 3 \"Length of Credit History\" and the output"
   ]
  },
  {
   "cell_type": "code",
   "execution_count": null,
   "id": "abf4cb04-a588-4d20-a3af-9b729b83ccde",
   "metadata": {},
   "outputs": [],
   "source": [
    "# Verifying the type of Input and Output dataframes related to the FICO Factor 3 \"Length of Credit History\"\n",
    "\n",
    "print(type(sm_fico_3_X))\n",
    "print(type(sm_fico_3_y))"
   ]
  },
  {
   "cell_type": "code",
   "execution_count": null,
   "id": "f6dd7c21-53ff-47b3-b6ac-31bf3902a1f6",
   "metadata": {},
   "outputs": [],
   "source": [
    "# Verifying the shape of Input and Output dataframes related to the FICO Factor 3 \"Length of Credit History\"\n",
    "\n",
    "print(sm_fico_3_X.shape)\n",
    "print(sm_fico_3_y.shape)"
   ]
  },
  {
   "cell_type": "code",
   "execution_count": null,
   "id": "1feb2da3-b777-40cc-a958-2bbd066e1285",
   "metadata": {},
   "outputs": [],
   "source": [
    "# Displaying sample data instances of the input dataframe which includes only the initial shortlisted inputs related to FICO Factor 3 \"Length of Credit History\"\n",
    "\n",
    "sm_fico_3_X[:5]"
   ]
  },
  {
   "cell_type": "code",
   "execution_count": null,
   "id": "fe2e797c-e281-47c8-b50d-ae4dce80e505",
   "metadata": {},
   "outputs": [],
   "source": [
    "# Displaying sample data instances of the output dataframe with target named \"fico_score_status\"\n",
    "\n",
    "sm_fico_3_y[:5]"
   ]
  },
  {
   "cell_type": "code",
   "execution_count": null,
   "id": "a06c5ee3-412a-407b-b610-e3dbbd0df437",
   "metadata": {},
   "outputs": [],
   "source": [
    "# RFE with Logistic Regression for Feature Selection with respect to FICO Factor 3 \"Length of Credit History\"\n",
    "\n",
    "sm_rfe_fico_3_model = LogisticRegression()\n",
    "sm_rfe_fico_3 = RFE(sm_rfe_fico_3_model, 3)\n",
    "sm_rfe_fico_3_fit = sm_rfe_fico_3.fit(sm_fico_3_X, sm_fico_3_y)\n",
    "\n",
    "print(\"FICO Factor 3 'Length of Credit History' Total Selected Features: %s\" % (sm_rfe_fico_3_fit.n_features_))\n",
    "print(\"FICO Factor 3 'Length of Credit History' Selected Features: %s\" % (sm_rfe_fico_3_fit.support_))\n",
    "print(\"FICO Factor 3 'Length of Credit History' Selected Features Ranking: %s\" % (sm_rfe_fico_3_fit.ranking_))"
   ]
  },
  {
   "cell_type": "markdown",
   "id": "8419fe34-fa4b-43ee-89a0-e8674d683ce0",
   "metadata": {},
   "source": [
    "## RFE for FICO Factor 4 - \"Credit Mix\""
   ]
  },
  {
   "cell_type": "markdown",
   "id": "35db7adc-ed5b-4218-84a0-260e1ee76b36",
   "metadata": {},
   "source": [
    "## Creating dataframes for the inputs related to FICO Factor 4 \"Credit Mix\" and the output"
   ]
  },
  {
   "cell_type": "code",
   "execution_count": null,
   "id": "5c5ece20-4568-4eaa-bc50-bd90abad527c",
   "metadata": {},
   "outputs": [],
   "source": [
    "# Verifying the type of Input and Output dataframes related to the FICO Factor 4 \"Credit Mix\"\n",
    "\n",
    "print(type(sm_fico_4_X))\n",
    "print(type(sm_fico_4_y))"
   ]
  },
  {
   "cell_type": "code",
   "execution_count": null,
   "id": "c1eac63a-1b62-43bd-aa09-4722650677bb",
   "metadata": {},
   "outputs": [],
   "source": [
    "# Verifying the shape of Input and Output dataframes related to the FICO Factor 4 \"Credit Mix\"\n",
    "\n",
    "print(sm_fico_4_X.shape)\n",
    "print(sm_fico_4_y.shape)"
   ]
  },
  {
   "cell_type": "code",
   "execution_count": null,
   "id": "da2bacd5-bf7c-4215-9766-68181afdb2d9",
   "metadata": {},
   "outputs": [],
   "source": [
    "# Displaying sample data instances of the input dataframe which includes only the initial shortlisted inputs related to FICO Factor 4 \"Credit Mix\"\n",
    "\n",
    "sm_fico_4_X[:5]"
   ]
  },
  {
   "cell_type": "code",
   "execution_count": null,
   "id": "c9354ef2-3540-4dce-859f-a854ac304123",
   "metadata": {},
   "outputs": [],
   "source": [
    "# Displaying sample data instances of the output dataframe with target named \"fico_score_status\"\n",
    "\n",
    "sm_fico_4_y[:5]"
   ]
  },
  {
   "cell_type": "code",
   "execution_count": null,
   "id": "0882b470-2b17-4ba9-8f71-bff167e328f4",
   "metadata": {},
   "outputs": [],
   "source": [
    "# RFE with Logistic Regression for Feature Selection with respect to FICO Factor 4 \"Credit Mix\"\n",
    "\n",
    "sm_rfe_fico_4_model = LogisticRegression()\n",
    "sm_rfe_fico_4 = RFE(sm_rfe_fico_4_model, 2)\n",
    "sm_rfe_fico_4_fit = sm_rfe_fico_4.fit(sm_fico_4_X, sm_fico_4_y)\n",
    "\n",
    "print(\"FICO Factor 4 'Credit Mix' Total Selected Features: %s\" % (sm_rfe_fico_4_fit.n_features_))\n",
    "print(\"FICO Factor 4 'Credit Mix' Selected Features: %s\" % (sm_rfe_fico_4_fit.support_))\n",
    "print(\"FICO Factor 4 'Credit Mix' Selected Features Ranking: %s\" % (sm_rfe_fico_4_fit.ranking_))"
   ]
  },
  {
   "cell_type": "markdown",
   "id": "10ee5b39-44e9-473c-a5e5-0c5998406fb3",
   "metadata": {},
   "source": [
    "## RFE for FICO Factor 5 - \"New Credit\""
   ]
  },
  {
   "cell_type": "markdown",
   "id": "b6d42c87-f0c6-47d8-b218-ea608cf1e1d8",
   "metadata": {},
   "source": [
    "## Creating dataframes for the inputs related to FICO Factor 5 \"New Credit\" and the output"
   ]
  },
  {
   "cell_type": "code",
   "execution_count": null,
   "id": "42cf8ded-6e0f-45c3-9ba8-8dc6331c0305",
   "metadata": {},
   "outputs": [],
   "source": [
    "# Verifying the type of Input and Output dataframes related to the FICO Factor 5 \"New Credit\"\n",
    "\n",
    "print(type(sm_fico_5_X))\n",
    "print(type(sm_fico_5_y))"
   ]
  },
  {
   "cell_type": "code",
   "execution_count": null,
   "id": "9d958d3c-a5f6-4a56-a0ed-0dafb24fd839",
   "metadata": {},
   "outputs": [],
   "source": [
    "# Verifying the shape of Input and Output dataframes related to the FICO Factor 5 \"New Credit\"\n",
    "\n",
    "print(sm_fico_5_X.shape)\n",
    "print(sm_fico_5_y.shape)"
   ]
  },
  {
   "cell_type": "code",
   "execution_count": null,
   "id": "bec301b6-d6b5-4392-bd9f-8b32ac14ea15",
   "metadata": {},
   "outputs": [],
   "source": [
    "# Displaying sample data instances of the input dataframe which includes only the initial shortlisted inputs related to FICO Factor 5 \"New Credit\"\n",
    "\n",
    "sm_fico_5_X[:5]"
   ]
  },
  {
   "cell_type": "code",
   "execution_count": null,
   "id": "33f481b6-f7d8-4c01-88e4-97a59e2789b5",
   "metadata": {},
   "outputs": [],
   "source": [
    "# Displaying sample data instances of the output dataframe with target named \"fico_score_status\"\n",
    "\n",
    "sm_fico_5_y[:5]"
   ]
  },
  {
   "cell_type": "code",
   "execution_count": null,
   "id": "2bf0b9de-0bb5-40b9-9fb1-f60fba870ee1",
   "metadata": {},
   "outputs": [],
   "source": [
    "# RFE with Logistic Regression for Feature Selection with respect to FICO Factor 5 \"New Credit\"\n",
    "\n",
    "sm_rfe_fico_5_model = LogisticRegression()\n",
    "sm_rfe_fico_5 = RFE(sm_rfe_fico_5_model, 2)\n",
    "sm_rfe_fico_5_fit = sm_rfe_fico_5.fit(sm_fico_5_X, sm_fico_5_y)\n",
    "\n",
    "print(\"FICO Factor 5 'New Credit' Total Selected Features: %s\" % (sm_rfe_fico_5_fit.n_features_))\n",
    "print(\"FICO Factor 5 'New Credit' Selected Features: %s\" % (sm_rfe_fico_5_fit.support_))\n",
    "print(\"FICO Factor 5 'New Credit' Selected Features Ranking: %s\" % (sm_rfe_fico_5_fit.ranking_))"
   ]
  },
  {
   "cell_type": "markdown",
   "id": "f7d8cc2c-cf50-4d38-90d1-689ebe851a27",
   "metadata": {},
   "source": [
    "## RFE for Non-FICO Factor 6 - \"Lenders Internal"
   ]
  },
  {
   "cell_type": "markdown",
   "id": "6719ef68-f3a8-440d-836b-f2f9c8c10a84",
   "metadata": {},
   "source": [
    "## Creating dataframes for the inputs related to Non-FICO Factor 6 - \"Lenders Internal\" and the output"
   ]
  },
  {
   "cell_type": "code",
   "execution_count": null,
   "id": "d2c53711-2590-4c68-aa80-d5f5d5c3142c",
   "metadata": {},
   "outputs": [],
   "source": [
    "# Verifying the type of Input and Output dataframes related to Non-FICO Factor 6 - \"Lenders Internal\"\n",
    "\n",
    "print(type(sm_non_fico_6_X))\n",
    "print(type(sm_non_fico_6_y))"
   ]
  },
  {
   "cell_type": "code",
   "execution_count": null,
   "id": "93a5cfbc-da99-4163-95cd-3b958a1dbd37",
   "metadata": {},
   "outputs": [],
   "source": [
    "# Verifying the shape of Input and Output dataframes related to Non-FICO Factor 6 - \"Lenders Internal\"\n",
    "\n",
    "print(sm_non_fico_6_X.shape)\n",
    "print(sm_non_fico_6_y.shape)"
   ]
  },
  {
   "cell_type": "code",
   "execution_count": null,
   "id": "b75fbbcd-e361-4fcb-acde-597f6a129b62",
   "metadata": {},
   "outputs": [],
   "source": [
    "# Displaying sample data instances of the input dataframe which includes only the initial shortlisted inputs related to Non-FICO Factor 6 - \"Lenders Internal\"\n",
    "\n",
    "sm_non_fico_6_X[:5]"
   ]
  },
  {
   "cell_type": "code",
   "execution_count": null,
   "id": "e0526cef-be38-468f-b671-afb7b59ff2d7",
   "metadata": {},
   "outputs": [],
   "source": [
    "# Displaying sample data instances of the output dataframe with target named \"fico_score_status\"\n",
    "\n",
    "sm_non_fico_6_y[:5]"
   ]
  },
  {
   "cell_type": "code",
   "execution_count": null,
   "id": "4648a194-98bb-46b9-9807-5d80f6c78801",
   "metadata": {},
   "outputs": [],
   "source": [
    "# RFE with Logistic Regression for Feature Selection with respect to Non-FICO Factor 6 - \"Lenders Internal\"\n",
    "\n",
    "sm_rfe_non_fico_6_model = LogisticRegression()\n",
    "sm_rfe_non_fico_6 = RFE(sm_rfe_non_fico_6_model, 2)\n",
    "sm_rfe_non_fico_6_fit = sm_rfe_non_fico_6.fit(sm_non_fico_6_X, sm_non_fico_6_y)\n",
    "\n",
    "print(\"Non-FICO Factor 6 'Lenders Internal' Total Selected Features: %s\" % (sm_rfe_non_fico_6_fit.n_features_))\n",
    "print(\"Non-FICO Factor 6 'Lenders Internal' Selected Features: %s\" % (sm_rfe_non_fico_6_fit.support_))\n",
    "print(\"Non-FICO Factor 6 'Lenders Internal' Selected Features Ranking: %s\" % (sm_rfe_non_fico_6_fit.ranking_))"
   ]
  },
  {
   "cell_type": "code",
   "execution_count": null,
   "id": "652924bb-85aa-4939-89a5-9f2918cd1e30",
   "metadata": {},
   "outputs": [],
   "source": []
  },
  {
   "cell_type": "code",
   "execution_count": null,
   "id": "83eaf331-e752-4739-90d3-8b773252dbbc",
   "metadata": {},
   "outputs": [],
   "source": []
  }
 ],
 "metadata": {
  "kernelspec": {
   "display_name": "Python 3",
   "language": "python",
   "name": "python3"
  },
  "language_info": {
   "codemirror_mode": {
    "name": "ipython",
    "version": 3
   },
   "file_extension": ".py",
   "mimetype": "text/x-python",
   "name": "python",
   "nbconvert_exporter": "python",
   "pygments_lexer": "ipython3",
   "version": "3.8.3"
  }
 },
 "nbformat": 4,
 "nbformat_minor": 5
}
